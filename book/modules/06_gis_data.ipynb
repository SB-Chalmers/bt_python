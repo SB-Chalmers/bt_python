{
 "cells": [
  {
   "cell_type": "markdown",
   "id": "052a9457",
   "metadata": {},
   "source": [
    "# Python for GIS (Optional)\n",
    "\n",
    "This notebook introduces basic geospatial analysis in Python using GeoPandas. It's designed for researchers who have used GIS tools like QGIS or ArcGIS, but are new to Python for spatial data."
   ]
  },
  {
   "cell_type": "markdown",
   "id": "9feb4ea7",
   "metadata": {},
   "source": [
    "## 1. Introduction\n",
    "\n",
    "**GeoPandas** is a Python library for working with spatial (vector) data. It lets you:\n",
    "- Load and analyze shapefiles or GeoJSONs\n",
    "- Plot maps and explore spatial patterns\n",
    "- Automate repetitive GIS tasks\n",
    "- Combine spatial and tabular data for reproducible research\n",
    "\n",
    "Using code for GIS workflows makes it easier to repeat analyses, process many files, and share your work."
   ]
  },
  {
   "cell_type": "markdown",
   "id": "c55dc92b",
   "metadata": {},
   "source": [
    "## 2. Getting Started with GeoPandas\n",
    "\n",
    "Let's load a sample GeoJSON file (e.g. building footprints from Lantmäteriet)."
   ]
  },
  {
   "cell_type": "code",
   "execution_count": null,
   "id": "344ecbfd",
   "metadata": {},
   "outputs": [],
   "source": [
    "import geopandas as gpd\n",
    "\n",
    "# Load a GeoJSON or shapefile (replace with your file path as needed)\n",
    "gdf = gpd.read_file('data/raw/buildings.geojson')\n",
    "\n",
    "# Show the first few rows\n",
    "gdf.head()"
   ]
  },
  {
   "cell_type": "code",
   "execution_count": null,
   "id": "1d25eb20",
   "metadata": {},
   "outputs": [],
   "source": [
    "# Check the coordinate reference system (CRS)\n",
    "print(\"CRS:\", gdf.crs)"
   ]
  },
  {
   "cell_type": "code",
   "execution_count": null,
   "id": "919c80b0",
   "metadata": {},
   "outputs": [],
   "source": [
    "# Quick map of the data\n",
    "gdf.plot(figsize=(8, 8))"
   ]
  },
  {
   "cell_type": "markdown",
   "id": "939aca5f",
   "metadata": {},
   "source": [
    "## 3. Exploring Spatial Data\n",
    "\n",
    "- Check available columns and geometry types\n",
    "- Plot by attribute (e.g. building type, if available)\n",
    "- Filter by attribute"
   ]
  },
  {
   "cell_type": "code",
   "execution_count": null,
   "id": "0f09c539",
   "metadata": {},
   "outputs": [],
   "source": [
    "# List columns and geometry type\n",
    "print(gdf.columns)\n",
    "print(gdf.geom_type.unique())"
   ]
  },
  {
   "cell_type": "code",
   "execution_count": null,
   "id": "df0e4680",
   "metadata": {},
   "outputs": [],
   "source": [
    "# Plot colored by an attribute (replace 'type' with a real column name if available)\n",
    "if 'type' in gdf.columns:\n",
    "    gdf.plot(column='type', legend=True, figsize=(8, 8))"
   ]
  },
  {
   "cell_type": "code",
   "execution_count": null,
   "id": "9252afd5",
   "metadata": {},
   "outputs": [],
   "source": [
    "# Filter: select only residential buildings (if such a column exists)\n",
    "if 'type' in gdf.columns:\n",
    "    residential = gdf[gdf['type'] == 'residential']\n",
    "    residential.plot(figsize=(8, 8))"
   ]
  },
  {
   "cell_type": "markdown",
   "id": "e7b00788",
   "metadata": {},
   "source": [
    "## 4. Simple Spatial Operations\n",
    "\n",
    "- Calculate area (in square meters, if CRS is metric)\n",
    "- Reproject if needed\n",
    "- Dissolve by region (if region column exists)"
   ]
  },
  {
   "cell_type": "code",
   "execution_count": null,
   "id": "5bcc5e18",
   "metadata": {},
   "outputs": [],
   "source": [
    "# Reproject to metric CRS if needed (e.g. SWEREF99 TM for Sweden: EPSG:3006)\n",
    "if gdf.crs and gdf.crs.to_epsg() != 3006:\n",
    "    gdf = gdf.to_crs(epsg=3006)\n",
    "\n",
    "# Calculate area in square meters\n",
    "gdf['area_m2'] = gdf.geometry.area\n",
    "gdf[['area_m2']].head()"
   ]
  },
  {
   "cell_type": "code",
   "execution_count": null,
   "id": "b8f13965",
   "metadata": {},
   "outputs": [],
   "source": [
    "# Dissolve by region (replace 'region' with a real column name if available)\n",
    "if 'region' in gdf.columns:\n",
    "    dissolved = gdf.dissolve(by='region')\n",
    "    dissolved.plot(figsize=(8, 8))"
   ]
  },
  {
   "cell_type": "markdown",
   "id": "1d9eda67",
   "metadata": {},
   "source": [
    "## 5. Joining Data\n",
    "\n",
    "You can link tabular data (like population by region) to your spatial data."
   ]
  },
  {
   "cell_type": "code",
   "execution_count": null,
   "id": "30a5cba7",
   "metadata": {},
   "outputs": [],
   "source": [
    "import pandas as pd\n",
    "\n",
    "# Example: load region statistics from CSV\n",
    "stats = pd.DataFrame({\n",
    "    'region': ['A', 'B', 'C'],\n",
    "    'population': [1000, 2500, 1800]\n",
    "})\n",
    "\n",
    "# Merge with GeoDataFrame (replace 'region' with your join column)\n",
    "if 'region' in gdf.columns:\n",
    "    gdf = gdf.merge(stats, on='region', how='left')\n",
    "\n",
    "# Plot population as a choropleth (if joined)\n",
    "if 'population' in gdf.columns:\n",
    "    gdf.plot(column='population', legend=True, figsize=(8, 8))"
   ]
  },
  {
   "cell_type": "markdown",
   "id": "1cfa87b4",
   "metadata": {},
   "source": [
    "## 6. Exporting\n",
    "\n",
    "You can save your results for use in GIS or reports."
   ]
  },
  {
   "cell_type": "code",
   "execution_count": null,
   "id": "00d8cec6",
   "metadata": {},
   "outputs": [],
   "source": [
    "# Save as shapefile\n",
    "gdf.to_file('data/processed/buildings_processed.shp')\n",
    "\n",
    "# Save as CSV (geometry will be WKT text)\n",
    "gdf.drop(columns='geometry').to_csv('data/processed/buildings_data.csv', index=False)\n",
    "\n",
    "# Save a map image\n",
    "ax = gdf.plot(figsize=(8, 8))\n",
    "fig = ax.get_figure()\n",
    "fig.savefig('output/buildings_map.png')"
   ]
  },
  {
   "cell_type": "markdown",
   "id": "2351c2bc",
   "metadata": {},
   "source": [
    "## 7. Practice Task (Optional)\n",
    "\n",
    "**Task:**\n",
    "- Load a new shapefile\n",
    "- Filter it by an attribute (e.g. type or region)\n",
    "- Calculate area\n",
    "- Save the result as a new shapefile or CSV"
   ]
  },
  {
   "cell_type": "markdown",
   "id": "594af783",
   "metadata": {},
   "source": [
    "## 8. Tips & Resources\n",
    "\n",
    "- Always check your coordinate system (`.crs`).\n",
    "- Large files may be slow—test with small datasets first.\n",
    "- [GeoPandas documentation](https://geopandas.org/)\n",
    "- [Open data sources (GADM)](https://gadm.org/) or your local GIS portal.\n",
    "\n",
    "Python makes it possible to automate, repeat, and share your spatial analyses!"
   ]
  }
 ],
 "metadata": {
  "language_info": {
   "name": "python"
  }
 },
 "nbformat": 4,
 "nbformat_minor": 5
}
