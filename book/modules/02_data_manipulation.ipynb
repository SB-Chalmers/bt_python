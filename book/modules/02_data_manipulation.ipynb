{
 "cells": [
  {
   "cell_type": "markdown",
   "id": "9c440872",
   "metadata": {
    "slideshow": {
     "slide_type": "slide"
    }
   },
   "source": [
    "# Working with Data in Python\n",
    "\n",
    "This notebook will help you get started with data analysis using Python and pandas. If you've used Excel before, you'll find many familiar concepts—plus some new superpowers!"
   ]
  },
  {
   "cell_type": "markdown",
   "id": "bf628c7b",
   "metadata": {
    "slideshow": {
     "slide_type": "slide"
    }
   },
   "source": [
    "## 1. Introduction\n",
    "\n",
    "**pandas** is a Python library for working with tabular data (like spreadsheets). It's widely used in research for:\n",
    "- Cleaning and organizing survey results\n",
    "- Combining data from different sources\n",
    "- Calculating quick statistics\n",
    "- Exporting results for reports"
   ]
  },
  {
   "cell_type": "markdown",
   "id": "91c391bf",
   "metadata": {
    "slideshow": {
     "slide_type": "slide"
    }
   },
   "source": [
    "## 2. Getting Started with pandas\n",
    "\n",
    "Let's import pandas and create a small example dataset. (In practice, you'd load your own CSV file.)"
   ]
  },
  {
   "cell_type": "code",
   "execution_count": 1,
   "id": "d6e5409a",
   "metadata": {
    "slideshow": {
     "slide_type": "subslide"
    }
   },
   "outputs": [
    {
     "data": {
      "text/html": [
       "<div>\n",
       "<style scoped>\n",
       "    .dataframe tbody tr th:only-of-type {\n",
       "        vertical-align: middle;\n",
       "    }\n",
       "\n",
       "    .dataframe tbody tr th {\n",
       "        vertical-align: top;\n",
       "    }\n",
       "\n",
       "    .dataframe thead th {\n",
       "        text-align: right;\n",
       "    }\n",
       "</style>\n",
       "<table border=\"1\" class=\"dataframe\">\n",
       "  <thead>\n",
       "    <tr style=\"text-align: right;\">\n",
       "      <th></th>\n",
       "      <th>project</th>\n",
       "      <th>year</th>\n",
       "      <th>type</th>\n",
       "      <th>lead</th>\n",
       "      <th>budget</th>\n",
       "    </tr>\n",
       "  </thead>\n",
       "  <tbody>\n",
       "    <tr>\n",
       "      <th>0</th>\n",
       "      <td>Green Roof</td>\n",
       "      <td>2021</td>\n",
       "      <td>Sustainability</td>\n",
       "      <td>Smith</td>\n",
       "      <td>50000.0</td>\n",
       "    </tr>\n",
       "    <tr>\n",
       "      <th>1</th>\n",
       "      <td>Solar Study</td>\n",
       "      <td>2022</td>\n",
       "      <td>Energy</td>\n",
       "      <td>Lee</td>\n",
       "      <td>60000.0</td>\n",
       "    </tr>\n",
       "    <tr>\n",
       "      <th>2</th>\n",
       "      <td>Urban Heat</td>\n",
       "      <td>2022</td>\n",
       "      <td>Climate</td>\n",
       "      <td>Patel</td>\n",
       "      <td>NaN</td>\n",
       "    </tr>\n",
       "    <tr>\n",
       "      <th>3</th>\n",
       "      <td>Daylight</td>\n",
       "      <td>2023</td>\n",
       "      <td>Lighting</td>\n",
       "      <td>Kim</td>\n",
       "      <td>45000.0</td>\n",
       "    </tr>\n",
       "    <tr>\n",
       "      <th>4</th>\n",
       "      <td>Retrofit</td>\n",
       "      <td>2021</td>\n",
       "      <td>Renovation</td>\n",
       "      <td>NaN</td>\n",
       "      <td>30000.0</td>\n",
       "    </tr>\n",
       "  </tbody>\n",
       "</table>\n",
       "</div>"
      ],
      "text/plain": [
       "       project  year            type   lead   budget\n",
       "0   Green Roof  2021  Sustainability  Smith  50000.0\n",
       "1  Solar Study  2022          Energy    Lee  60000.0\n",
       "2   Urban Heat  2022         Climate  Patel      NaN\n",
       "3     Daylight  2023        Lighting    Kim  45000.0\n",
       "4     Retrofit  2021      Renovation    NaN  30000.0"
      ]
     },
     "execution_count": 1,
     "metadata": {},
     "output_type": "execute_result"
    }
   ],
   "source": [
    "import pandas as pd\n",
    "\n",
    "# Example data: research projects\n",
    "data = {\n",
    "    'project': ['Green Roof', 'Solar Study', 'Urban Heat', 'Daylight', 'Retrofit'],\n",
    "    'year': [2021, 2022, 2022, 2023, 2021],\n",
    "    'type': ['Sustainability', 'Energy', 'Climate', 'Lighting', 'Renovation'],\n",
    "    'lead': ['Smith', 'Lee', 'Patel', 'Kim', None],\n",
    "    'budget': [50000, 60000, None, 45000, 30000]\n",
    "}\n",
    "df = pd.DataFrame(data)\n",
    "\n",
    "# Save to CSV for demonstration\n",
    "df.to_csv('projects.csv', index=False)\n",
    "\n",
    "# Read the CSV file (simulating a real workflow)\n",
    "df = pd.read_csv('projects.csv')\n",
    "\n",
    "df.head()  # Show the first few rows"
   ]
  },
  {
   "cell_type": "code",
   "execution_count": 2,
   "id": "18fb6493",
   "metadata": {
    "slideshow": {
     "slide_type": "subslide"
    }
   },
   "outputs": [
    {
     "name": "stdout",
     "output_type": "stream",
     "text": [
      "<class 'pandas.core.frame.DataFrame'>\n",
      "RangeIndex: 5 entries, 0 to 4\n",
      "Data columns (total 5 columns):\n",
      " #   Column   Non-Null Count  Dtype  \n",
      "---  ------   --------------  -----  \n",
      " 0   project  5 non-null      object \n",
      " 1   year     5 non-null      int64  \n",
      " 2   type     5 non-null      object \n",
      " 3   lead     4 non-null      object \n",
      " 4   budget   4 non-null      float64\n",
      "dtypes: float64(1), int64(1), object(3)\n",
      "memory usage: 328.0+ bytes\n"
     ]
    }
   ],
   "source": [
    "# Get a summary of the dataframe\n",
    "df.info()"
   ]
  },
  {
   "cell_type": "code",
   "execution_count": 3,
   "id": "d2426746",
   "metadata": {
    "slideshow": {
     "slide_type": "subslide"
    }
   },
   "outputs": [
    {
     "data": {
      "text/html": [
       "<div>\n",
       "<style scoped>\n",
       "    .dataframe tbody tr th:only-of-type {\n",
       "        vertical-align: middle;\n",
       "    }\n",
       "\n",
       "    .dataframe tbody tr th {\n",
       "        vertical-align: top;\n",
       "    }\n",
       "\n",
       "    .dataframe thead th {\n",
       "        text-align: right;\n",
       "    }\n",
       "</style>\n",
       "<table border=\"1\" class=\"dataframe\">\n",
       "  <thead>\n",
       "    <tr style=\"text-align: right;\">\n",
       "      <th></th>\n",
       "      <th>year</th>\n",
       "      <th>budget</th>\n",
       "    </tr>\n",
       "  </thead>\n",
       "  <tbody>\n",
       "    <tr>\n",
       "      <th>count</th>\n",
       "      <td>5.00000</td>\n",
       "      <td>4.0</td>\n",
       "    </tr>\n",
       "    <tr>\n",
       "      <th>mean</th>\n",
       "      <td>2021.80000</td>\n",
       "      <td>46250.0</td>\n",
       "    </tr>\n",
       "    <tr>\n",
       "      <th>std</th>\n",
       "      <td>0.83666</td>\n",
       "      <td>12500.0</td>\n",
       "    </tr>\n",
       "    <tr>\n",
       "      <th>min</th>\n",
       "      <td>2021.00000</td>\n",
       "      <td>30000.0</td>\n",
       "    </tr>\n",
       "    <tr>\n",
       "      <th>25%</th>\n",
       "      <td>2021.00000</td>\n",
       "      <td>41250.0</td>\n",
       "    </tr>\n",
       "    <tr>\n",
       "      <th>50%</th>\n",
       "      <td>2022.00000</td>\n",
       "      <td>47500.0</td>\n",
       "    </tr>\n",
       "    <tr>\n",
       "      <th>75%</th>\n",
       "      <td>2022.00000</td>\n",
       "      <td>52500.0</td>\n",
       "    </tr>\n",
       "    <tr>\n",
       "      <th>max</th>\n",
       "      <td>2023.00000</td>\n",
       "      <td>60000.0</td>\n",
       "    </tr>\n",
       "  </tbody>\n",
       "</table>\n",
       "</div>"
      ],
      "text/plain": [
       "             year   budget\n",
       "count     5.00000      4.0\n",
       "mean   2021.80000  46250.0\n",
       "std       0.83666  12500.0\n",
       "min    2021.00000  30000.0\n",
       "25%    2021.00000  41250.0\n",
       "50%    2022.00000  47500.0\n",
       "75%    2022.00000  52500.0\n",
       "max    2023.00000  60000.0"
      ]
     },
     "execution_count": 3,
     "metadata": {},
     "output_type": "execute_result"
    }
   ],
   "source": [
    "# Quick statistics for numeric columns\n",
    "df.describe()"
   ]
  },
  {
   "cell_type": "markdown",
   "id": "89006154",
   "metadata": {
    "slideshow": {
     "slide_type": "slide"
    }
   },
   "source": [
    "## 3. Exploring the Data\n",
    "\n",
    "Let's look at how to select columns, filter rows, and sort data."
   ]
  },
  {
   "cell_type": "code",
   "execution_count": 4,
   "id": "409a8f18",
   "metadata": {
    "slideshow": {
     "slide_type": "subslide"
    }
   },
   "outputs": [
    {
     "data": {
      "text/plain": [
       "0     Green Roof\n",
       "1    Solar Study\n",
       "2     Urban Heat\n",
       "3       Daylight\n",
       "4       Retrofit\n",
       "Name: project, dtype: object"
      ]
     },
     "execution_count": 4,
     "metadata": {},
     "output_type": "execute_result"
    }
   ],
   "source": [
    "# Select a single column\n",
    "df['project']"
   ]
  },
  {
   "cell_type": "code",
   "execution_count": 5,
   "id": "af448330",
   "metadata": {
    "slideshow": {
     "slide_type": "subslide"
    }
   },
   "outputs": [
    {
     "data": {
      "text/html": [
       "<div>\n",
       "<style scoped>\n",
       "    .dataframe tbody tr th:only-of-type {\n",
       "        vertical-align: middle;\n",
       "    }\n",
       "\n",
       "    .dataframe tbody tr th {\n",
       "        vertical-align: top;\n",
       "    }\n",
       "\n",
       "    .dataframe thead th {\n",
       "        text-align: right;\n",
       "    }\n",
       "</style>\n",
       "<table border=\"1\" class=\"dataframe\">\n",
       "  <thead>\n",
       "    <tr style=\"text-align: right;\">\n",
       "      <th></th>\n",
       "      <th>project</th>\n",
       "      <th>year</th>\n",
       "    </tr>\n",
       "  </thead>\n",
       "  <tbody>\n",
       "    <tr>\n",
       "      <th>0</th>\n",
       "      <td>Green Roof</td>\n",
       "      <td>2021</td>\n",
       "    </tr>\n",
       "    <tr>\n",
       "      <th>1</th>\n",
       "      <td>Solar Study</td>\n",
       "      <td>2022</td>\n",
       "    </tr>\n",
       "    <tr>\n",
       "      <th>2</th>\n",
       "      <td>Urban Heat</td>\n",
       "      <td>2022</td>\n",
       "    </tr>\n",
       "    <tr>\n",
       "      <th>3</th>\n",
       "      <td>Daylight</td>\n",
       "      <td>2023</td>\n",
       "    </tr>\n",
       "    <tr>\n",
       "      <th>4</th>\n",
       "      <td>Retrofit</td>\n",
       "      <td>2021</td>\n",
       "    </tr>\n",
       "  </tbody>\n",
       "</table>\n",
       "</div>"
      ],
      "text/plain": [
       "       project  year\n",
       "0   Green Roof  2021\n",
       "1  Solar Study  2022\n",
       "2   Urban Heat  2022\n",
       "3     Daylight  2023\n",
       "4     Retrofit  2021"
      ]
     },
     "execution_count": 5,
     "metadata": {},
     "output_type": "execute_result"
    }
   ],
   "source": [
    "# Select multiple columns\n",
    "df[['project', 'year']]"
   ]
  },
  {
   "cell_type": "code",
   "execution_count": 6,
   "id": "d4b33f42",
   "metadata": {
    "slideshow": {
     "slide_type": "subslide"
    }
   },
   "outputs": [
    {
     "data": {
      "text/html": [
       "<div>\n",
       "<style scoped>\n",
       "    .dataframe tbody tr th:only-of-type {\n",
       "        vertical-align: middle;\n",
       "    }\n",
       "\n",
       "    .dataframe tbody tr th {\n",
       "        vertical-align: top;\n",
       "    }\n",
       "\n",
       "    .dataframe thead th {\n",
       "        text-align: right;\n",
       "    }\n",
       "</style>\n",
       "<table border=\"1\" class=\"dataframe\">\n",
       "  <thead>\n",
       "    <tr style=\"text-align: right;\">\n",
       "      <th></th>\n",
       "      <th>project</th>\n",
       "      <th>year</th>\n",
       "      <th>type</th>\n",
       "      <th>lead</th>\n",
       "      <th>budget</th>\n",
       "    </tr>\n",
       "  </thead>\n",
       "  <tbody>\n",
       "    <tr>\n",
       "      <th>1</th>\n",
       "      <td>Solar Study</td>\n",
       "      <td>2022</td>\n",
       "      <td>Energy</td>\n",
       "      <td>Lee</td>\n",
       "      <td>60000.0</td>\n",
       "    </tr>\n",
       "    <tr>\n",
       "      <th>2</th>\n",
       "      <td>Urban Heat</td>\n",
       "      <td>2022</td>\n",
       "      <td>Climate</td>\n",
       "      <td>Patel</td>\n",
       "      <td>NaN</td>\n",
       "    </tr>\n",
       "  </tbody>\n",
       "</table>\n",
       "</div>"
      ],
      "text/plain": [
       "       project  year     type   lead   budget\n",
       "1  Solar Study  2022   Energy    Lee  60000.0\n",
       "2   Urban Heat  2022  Climate  Patel      NaN"
      ]
     },
     "execution_count": 6,
     "metadata": {},
     "output_type": "execute_result"
    }
   ],
   "source": [
    "# Filter rows: projects from 2022\n",
    "df[df['year'] == 2022]"
   ]
  },
  {
   "cell_type": "code",
   "execution_count": 7,
   "id": "9ad8782e",
   "metadata": {
    "slideshow": {
     "slide_type": "subslide"
    }
   },
   "outputs": [
    {
     "data": {
      "text/html": [
       "<div>\n",
       "<style scoped>\n",
       "    .dataframe tbody tr th:only-of-type {\n",
       "        vertical-align: middle;\n",
       "    }\n",
       "\n",
       "    .dataframe tbody tr th {\n",
       "        vertical-align: top;\n",
       "    }\n",
       "\n",
       "    .dataframe thead th {\n",
       "        text-align: right;\n",
       "    }\n",
       "</style>\n",
       "<table border=\"1\" class=\"dataframe\">\n",
       "  <thead>\n",
       "    <tr style=\"text-align: right;\">\n",
       "      <th></th>\n",
       "      <th>project</th>\n",
       "      <th>year</th>\n",
       "      <th>type</th>\n",
       "      <th>lead</th>\n",
       "      <th>budget</th>\n",
       "    </tr>\n",
       "  </thead>\n",
       "  <tbody>\n",
       "    <tr>\n",
       "      <th>1</th>\n",
       "      <td>Solar Study</td>\n",
       "      <td>2022</td>\n",
       "      <td>Energy</td>\n",
       "      <td>Lee</td>\n",
       "      <td>60000.0</td>\n",
       "    </tr>\n",
       "    <tr>\n",
       "      <th>0</th>\n",
       "      <td>Green Roof</td>\n",
       "      <td>2021</td>\n",
       "      <td>Sustainability</td>\n",
       "      <td>Smith</td>\n",
       "      <td>50000.0</td>\n",
       "    </tr>\n",
       "    <tr>\n",
       "      <th>3</th>\n",
       "      <td>Daylight</td>\n",
       "      <td>2023</td>\n",
       "      <td>Lighting</td>\n",
       "      <td>Kim</td>\n",
       "      <td>45000.0</td>\n",
       "    </tr>\n",
       "    <tr>\n",
       "      <th>4</th>\n",
       "      <td>Retrofit</td>\n",
       "      <td>2021</td>\n",
       "      <td>Renovation</td>\n",
       "      <td>NaN</td>\n",
       "      <td>30000.0</td>\n",
       "    </tr>\n",
       "    <tr>\n",
       "      <th>2</th>\n",
       "      <td>Urban Heat</td>\n",
       "      <td>2022</td>\n",
       "      <td>Climate</td>\n",
       "      <td>Patel</td>\n",
       "      <td>NaN</td>\n",
       "    </tr>\n",
       "  </tbody>\n",
       "</table>\n",
       "</div>"
      ],
      "text/plain": [
       "       project  year            type   lead   budget\n",
       "1  Solar Study  2022          Energy    Lee  60000.0\n",
       "0   Green Roof  2021  Sustainability  Smith  50000.0\n",
       "3     Daylight  2023        Lighting    Kim  45000.0\n",
       "4     Retrofit  2021      Renovation    NaN  30000.0\n",
       "2   Urban Heat  2022         Climate  Patel      NaN"
      ]
     },
     "execution_count": 7,
     "metadata": {},
     "output_type": "execute_result"
    }
   ],
   "source": [
    "# Sort by budget (highest first)\n",
    "df.sort_values('budget', ascending=False)"
   ]
  },
  {
   "cell_type": "markdown",
   "id": "bc2ca89a",
   "metadata": {
    "slideshow": {
     "slide_type": "slide"
    }
   },
   "source": [
    "## 4. Cleaning the Data\n",
    "\n",
    "Real-world data is often messy. Let's check for missing values and tidy things up."
   ]
  },
  {
   "cell_type": "code",
   "execution_count": 8,
   "id": "39edfe72",
   "metadata": {
    "slideshow": {
     "slide_type": "subslide"
    }
   },
   "outputs": [
    {
     "data": {
      "text/plain": [
       "project    0\n",
       "year       0\n",
       "type       0\n",
       "lead       1\n",
       "budget     1\n",
       "dtype: int64"
      ]
     },
     "execution_count": 8,
     "metadata": {},
     "output_type": "execute_result"
    }
   ],
   "source": [
    "# Count missing values in each column\n",
    "df.isnull().sum()"
   ]
  },
  {
   "cell_type": "code",
   "execution_count": 9,
   "id": "8899a57e",
   "metadata": {
    "slideshow": {
     "slide_type": "subslide"
    }
   },
   "outputs": [
    {
     "data": {
      "text/html": [
       "<div>\n",
       "<style scoped>\n",
       "    .dataframe tbody tr th:only-of-type {\n",
       "        vertical-align: middle;\n",
       "    }\n",
       "\n",
       "    .dataframe tbody tr th {\n",
       "        vertical-align: top;\n",
       "    }\n",
       "\n",
       "    .dataframe thead th {\n",
       "        text-align: right;\n",
       "    }\n",
       "</style>\n",
       "<table border=\"1\" class=\"dataframe\">\n",
       "  <thead>\n",
       "    <tr style=\"text-align: right;\">\n",
       "      <th></th>\n",
       "      <th>project</th>\n",
       "      <th>year</th>\n",
       "      <th>type</th>\n",
       "      <th>lead</th>\n",
       "      <th>budget</th>\n",
       "    </tr>\n",
       "  </thead>\n",
       "  <tbody>\n",
       "    <tr>\n",
       "      <th>0</th>\n",
       "      <td>Green Roof</td>\n",
       "      <td>2021</td>\n",
       "      <td>Sustainability</td>\n",
       "      <td>Smith</td>\n",
       "      <td>50000.0</td>\n",
       "    </tr>\n",
       "    <tr>\n",
       "      <th>1</th>\n",
       "      <td>Solar Study</td>\n",
       "      <td>2022</td>\n",
       "      <td>Energy</td>\n",
       "      <td>Lee</td>\n",
       "      <td>60000.0</td>\n",
       "    </tr>\n",
       "    <tr>\n",
       "      <th>3</th>\n",
       "      <td>Daylight</td>\n",
       "      <td>2023</td>\n",
       "      <td>Lighting</td>\n",
       "      <td>Kim</td>\n",
       "      <td>45000.0</td>\n",
       "    </tr>\n",
       "    <tr>\n",
       "      <th>4</th>\n",
       "      <td>Retrofit</td>\n",
       "      <td>2021</td>\n",
       "      <td>Renovation</td>\n",
       "      <td>Unknown</td>\n",
       "      <td>30000.0</td>\n",
       "    </tr>\n",
       "  </tbody>\n",
       "</table>\n",
       "</div>"
      ],
      "text/plain": [
       "       project  year            type     lead   budget\n",
       "0   Green Roof  2021  Sustainability    Smith  50000.0\n",
       "1  Solar Study  2022          Energy      Lee  60000.0\n",
       "3     Daylight  2023        Lighting      Kim  45000.0\n",
       "4     Retrofit  2021      Renovation  Unknown  30000.0"
      ]
     },
     "execution_count": 9,
     "metadata": {},
     "output_type": "execute_result"
    }
   ],
   "source": [
    "# Fill missing values in 'lead' with 'Unknown'\n",
    "df['lead'] = df['lead'].fillna('Unknown')\n",
    "\n",
    "# Drop rows where 'budget' is missing\n",
    "df = df.dropna(subset=['budget'])\n",
    "\n",
    "df"
   ]
  },
  {
   "cell_type": "code",
   "execution_count": 10,
   "id": "aeee8a5f",
   "metadata": {
    "slideshow": {
     "slide_type": "subslide"
    }
   },
   "outputs": [
    {
     "data": {
      "text/html": [
       "<div>\n",
       "<style scoped>\n",
       "    .dataframe tbody tr th:only-of-type {\n",
       "        vertical-align: middle;\n",
       "    }\n",
       "\n",
       "    .dataframe tbody tr th {\n",
       "        vertical-align: top;\n",
       "    }\n",
       "\n",
       "    .dataframe thead th {\n",
       "        text-align: right;\n",
       "    }\n",
       "</style>\n",
       "<table border=\"1\" class=\"dataframe\">\n",
       "  <thead>\n",
       "    <tr style=\"text-align: right;\">\n",
       "      <th></th>\n",
       "      <th>project</th>\n",
       "      <th>year</th>\n",
       "      <th>type</th>\n",
       "      <th>principal_investigator</th>\n",
       "      <th>budget</th>\n",
       "    </tr>\n",
       "  </thead>\n",
       "  <tbody>\n",
       "    <tr>\n",
       "      <th>0</th>\n",
       "      <td>Green Roof</td>\n",
       "      <td>2021</td>\n",
       "      <td>Sustainability</td>\n",
       "      <td>Smith</td>\n",
       "      <td>50000.0</td>\n",
       "    </tr>\n",
       "    <tr>\n",
       "      <th>1</th>\n",
       "      <td>Solar Study</td>\n",
       "      <td>2022</td>\n",
       "      <td>Energy</td>\n",
       "      <td>Lee</td>\n",
       "      <td>60000.0</td>\n",
       "    </tr>\n",
       "    <tr>\n",
       "      <th>3</th>\n",
       "      <td>Daylight</td>\n",
       "      <td>2023</td>\n",
       "      <td>Lighting</td>\n",
       "      <td>Kim</td>\n",
       "      <td>45000.0</td>\n",
       "    </tr>\n",
       "    <tr>\n",
       "      <th>4</th>\n",
       "      <td>Retrofit</td>\n",
       "      <td>2021</td>\n",
       "      <td>Renovation</td>\n",
       "      <td>Unknown</td>\n",
       "      <td>30000.0</td>\n",
       "    </tr>\n",
       "  </tbody>\n",
       "</table>\n",
       "</div>"
      ],
      "text/plain": [
       "       project  year            type principal_investigator   budget\n",
       "0   Green Roof  2021  Sustainability                  Smith  50000.0\n",
       "1  Solar Study  2022          Energy                    Lee  60000.0\n",
       "3     Daylight  2023        Lighting                    Kim  45000.0\n",
       "4     Retrofit  2021      Renovation                Unknown  30000.0"
      ]
     },
     "execution_count": 10,
     "metadata": {},
     "output_type": "execute_result"
    }
   ],
   "source": [
    "# Rename a column\n",
    "df = df.rename(columns={'lead': 'principal_investigator'})\n",
    "df.head()"
   ]
  },
  {
   "cell_type": "code",
   "execution_count": 11,
   "id": "2f3536c8",
   "metadata": {
    "slideshow": {
     "slide_type": "subslide"
    }
   },
   "outputs": [
    {
     "data": {
      "text/html": [
       "<div>\n",
       "<style scoped>\n",
       "    .dataframe tbody tr th:only-of-type {\n",
       "        vertical-align: middle;\n",
       "    }\n",
       "\n",
       "    .dataframe tbody tr th {\n",
       "        vertical-align: top;\n",
       "    }\n",
       "\n",
       "    .dataframe thead th {\n",
       "        text-align: right;\n",
       "    }\n",
       "</style>\n",
       "<table border=\"1\" class=\"dataframe\">\n",
       "  <thead>\n",
       "    <tr style=\"text-align: right;\">\n",
       "      <th></th>\n",
       "      <th>project</th>\n",
       "      <th>year</th>\n",
       "      <th>type</th>\n",
       "      <th>principal_investigator</th>\n",
       "      <th>budget</th>\n",
       "    </tr>\n",
       "  </thead>\n",
       "  <tbody>\n",
       "    <tr>\n",
       "      <th>0</th>\n",
       "      <td>Green Roof</td>\n",
       "      <td>2021</td>\n",
       "      <td>Sustainability</td>\n",
       "      <td>Smith</td>\n",
       "      <td>50000.0</td>\n",
       "    </tr>\n",
       "    <tr>\n",
       "      <th>1</th>\n",
       "      <td>Solar Study</td>\n",
       "      <td>2022</td>\n",
       "      <td>Energy</td>\n",
       "      <td>Lee</td>\n",
       "      <td>60000.0</td>\n",
       "    </tr>\n",
       "    <tr>\n",
       "      <th>3</th>\n",
       "      <td>Daylight</td>\n",
       "      <td>2023</td>\n",
       "      <td>Lighting</td>\n",
       "      <td>Kim</td>\n",
       "      <td>45000.0</td>\n",
       "    </tr>\n",
       "    <tr>\n",
       "      <th>4</th>\n",
       "      <td>Retrofit</td>\n",
       "      <td>2021</td>\n",
       "      <td>Renovation</td>\n",
       "      <td>Unknown</td>\n",
       "      <td>30000.0</td>\n",
       "    </tr>\n",
       "  </tbody>\n",
       "</table>\n",
       "</div>"
      ],
      "text/plain": [
       "       project  year            type principal_investigator   budget\n",
       "0   Green Roof  2021  Sustainability                  Smith  50000.0\n",
       "1  Solar Study  2022          Energy                    Lee  60000.0\n",
       "3     Daylight  2023        Lighting                    Kim  45000.0\n",
       "4     Retrofit  2021      Renovation                Unknown  30000.0"
      ]
     },
     "execution_count": 11,
     "metadata": {},
     "output_type": "execute_result"
    }
   ],
   "source": [
    "# Remove duplicate rows (if any)\n",
    "df = df.drop_duplicates()\n",
    "df"
   ]
  },
  {
   "cell_type": "markdown",
   "id": "9f0aae81",
   "metadata": {
    "slideshow": {
     "slide_type": "slide"
    }
   },
   "source": [
    "## 5. Simple Aggregation\n",
    "\n",
    "Let's summarize our data to get useful insights."
   ]
  },
  {
   "cell_type": "code",
   "execution_count": 12,
   "id": "806f4830",
   "metadata": {
    "slideshow": {
     "slide_type": "subslide"
    }
   },
   "outputs": [
    {
     "data": {
      "text/plain": [
       "type\n",
       "Energy            1\n",
       "Lighting          1\n",
       "Renovation        1\n",
       "Sustainability    1\n",
       "Name: project, dtype: int64"
      ]
     },
     "execution_count": 12,
     "metadata": {},
     "output_type": "execute_result"
    }
   ],
   "source": [
    "# Count projects by type\n",
    "df.groupby('type')['project'].count()"
   ]
  },
  {
   "cell_type": "code",
   "execution_count": 13,
   "id": "2018e6c9",
   "metadata": {
    "slideshow": {
     "slide_type": "subslide"
    }
   },
   "outputs": [
    {
     "data": {
      "text/plain": [
       "type\n",
       "Energy            60000.0\n",
       "Lighting          45000.0\n",
       "Renovation        30000.0\n",
       "Sustainability    50000.0\n",
       "Name: budget, dtype: float64"
      ]
     },
     "execution_count": 13,
     "metadata": {},
     "output_type": "execute_result"
    }
   ],
   "source": [
    "# Average budget by project type\n",
    "df.groupby('type')['budget'].mean()"
   ]
  },
  {
   "cell_type": "code",
   "execution_count": 14,
   "id": "9428221e",
   "metadata": {
    "slideshow": {
     "slide_type": "subslide"
    }
   },
   "outputs": [
    {
     "data": {
      "text/plain": [
       "2021    2\n",
       "2022    1\n",
       "2023    1\n",
       "Name: year, dtype: int64"
      ]
     },
     "execution_count": 14,
     "metadata": {},
     "output_type": "execute_result"
    }
   ],
   "source": [
    "# How many projects per year?\n",
    "df['year'].value_counts()"
   ]
  },
  {
   "cell_type": "markdown",
   "id": "83903b45",
   "metadata": {
    "slideshow": {
     "slide_type": "slide"
    }
   },
   "source": [
    "## 6. Saving Data\n",
    "\n",
    "Once your data is clean, you can export it for use elsewhere."
   ]
  },
  {
   "cell_type": "code",
   "execution_count": 15,
   "id": "2be2f7cb",
   "metadata": {
    "slideshow": {
     "slide_type": "subslide"
    }
   },
   "outputs": [],
   "source": [
    "# Save the cleaned dataframe to a new CSV file\n",
    "df.to_csv('projects_cleaned.csv', index=False)"
   ]
  },
  {
   "cell_type": "markdown",
   "id": "335c0e95",
   "metadata": {
    "slideshow": {
     "slide_type": "slide"
    }
   },
   "source": [
    "## 7. Practice Challenge (Optional)\n",
    "\n",
    "**Task:**\n",
    "- Filter all projects from 2022\n",
    "- Rename the 'type' column to 'category'\n",
    "- Save the result to a new CSV file called `projects_2022.csv`"
   ]
  },
  {
   "cell_type": "markdown",
   "id": "1f51ce6d",
   "metadata": {
    "slideshow": {
     "slide_type": "slide"
    }
   },
   "source": [
    "## 8. Common Data Issues"
   ]
  },
  {
   "cell_type": "markdown",
   "id": "381e937a",
   "metadata": {
    "slideshow": {
     "slide_type": "subslide"
    }
   },
   "source": [
    "### ⚠️Encoding & Special Characters\n",
    "\n",
    "When working with data containing special characters (like Swedish å, ä, ö), you may see strange symbols or errors if the encoding is not handled correctly.\n",
    "\n",
    "**Tip:** Always specify the encoding when reading or writing files if you expect non-English characters."
   ]
  },
  {
   "cell_type": "code",
   "execution_count": 16,
   "id": "0f4281f7",
   "metadata": {
    "slideshow": {
     "slide_type": "fragment"
    }
   },
   "outputs": [
    {
     "data": {
      "text/html": [
       "<div>\n",
       "<style scoped>\n",
       "    .dataframe tbody tr th:only-of-type {\n",
       "        vertical-align: middle;\n",
       "    }\n",
       "\n",
       "    .dataframe tbody tr th {\n",
       "        vertical-align: top;\n",
       "    }\n",
       "\n",
       "    .dataframe thead th {\n",
       "        text-align: right;\n",
       "    }\n",
       "</style>\n",
       "<table border=\"1\" class=\"dataframe\">\n",
       "  <thead>\n",
       "    <tr style=\"text-align: right;\">\n",
       "      <th></th>\n",
       "      <th>name</th>\n",
       "    </tr>\n",
       "  </thead>\n",
       "  <tbody>\n",
       "    <tr>\n",
       "      <th>0</th>\n",
       "      <td>Malmö</td>\n",
       "    </tr>\n",
       "    <tr>\n",
       "      <th>1</th>\n",
       "      <td>Göteborg</td>\n",
       "    </tr>\n",
       "    <tr>\n",
       "      <th>2</th>\n",
       "      <td>Umeå</td>\n",
       "    </tr>\n",
       "  </tbody>\n",
       "</table>\n",
       "</div>"
      ],
      "text/plain": [
       "       name\n",
       "0     Malmö\n",
       "1  Göteborg\n",
       "2      Umeå"
      ]
     },
     "execution_count": 16,
     "metadata": {},
     "output_type": "execute_result"
    }
   ],
   "source": [
    "# Example: Saving and loading Swedish characters\n",
    "df_sw = pd.DataFrame({'name': ['Malmö', 'Göteborg', 'Umeå']})\n",
    "df_sw.to_csv('swedish_cities.csv', index=False, encoding='utf-8')  # Always use utf-8\n",
    "\n",
    "# Reading with correct encoding\n",
    "pd.read_csv('swedish_cities.csv', encoding='utf-8')"
   ]
  },
  {
   "cell_type": "markdown",
   "id": "29f941b2",
   "metadata": {
    "slideshow": {
     "slide_type": "subslide"
    }
   },
   "source": [
    "### ⚠️File Path Issues: Slashes, Spaces, and Case\n",
    "\n",
    "- **Windows uses backslashes (`\\`)**, while Mac/Linux use forward slashes (`/`). Python accepts both, but forward slashes are safer.\n",
    "- **Spaces and mixed case** in file or folder names can cause problems. Always double-check your paths!\n",
    "\n",
    "**Tip:** Use `r'path'` (raw strings) or `os.path.join()` to avoid mistakes."
   ]
  },
  {
   "cell_type": "code",
   "execution_count": 17,
   "id": "37f455c1",
   "metadata": {
    "slideshow": {
     "slide_type": "fragment"
    }
   },
   "outputs": [
    {
     "name": "stdout",
     "output_type": "stream",
     "text": [
      "My Data Folder\\Results 2023.csv\n"
     ]
    }
   ],
   "source": [
    "import os\n",
    "# Safer way to build file paths:\n",
    "folder = 'My Data Folder'\n",
    "filename = 'Results 2023.csv'\n",
    "path = os.path.join(folder, filename)\n",
    "print(path)  # Handles slashes for your OS"
   ]
  },
  {
   "cell_type": "markdown",
   "id": "6ecb6296",
   "metadata": {
    "slideshow": {
     "slide_type": "subslide"
    }
   },
   "source": [
    "### ⚠️Inconsistent Variable Naming\n",
    "\n",
    "Mixing up variable names (e.g., `ProjectName` vs `project_name`) can lead to bugs and confusion.\n",
    "\n",
    "**Tip:** Stick to a naming convention (like `snake_case`) and be consistent throughout your code."
   ]
  },
  {
   "cell_type": "code",
   "execution_count": 18,
   "id": "420556f9",
   "metadata": {
    "slideshow": {
     "slide_type": "fragment"
    }
   },
   "outputs": [],
   "source": [
    "# Example: Inconsistent naming can cause errors\n",
    "projectName = 'Green Roof'\n",
    "# print(project_name)  # This will cause a NameError\n",
    "\n",
    "# Consistent naming:\n",
    "project_name = 'Green Roof'"
   ]
  },
  {
   "cell_type": "markdown",
   "id": "48a488b8",
   "metadata": {
    "slideshow": {
     "slide_type": "subslide"
    }
   },
   "source": [
    "### ⚠️Handling Newlines in Text Data\n",
    "\n",
    "Sometimes, text fields contain `\\n` (newline) characters. This can make your data look odd or break CSV formatting.\n",
    "\n",
    "**Tip:** Use `str.replace()` or pandas string methods to clean up newlines if needed."
   ]
  },
  {
   "cell_type": "code",
   "execution_count": 19,
   "id": "ec20ec72",
   "metadata": {
    "slideshow": {
     "slide_type": "fragment"
    }
   },
   "outputs": [
    {
     "data": {
      "text/html": [
       "<div>\n",
       "<style scoped>\n",
       "    .dataframe tbody tr th:only-of-type {\n",
       "        vertical-align: middle;\n",
       "    }\n",
       "\n",
       "    .dataframe tbody tr th {\n",
       "        vertical-align: top;\n",
       "    }\n",
       "\n",
       "    .dataframe thead th {\n",
       "        text-align: right;\n",
       "    }\n",
       "</style>\n",
       "<table border=\"1\" class=\"dataframe\">\n",
       "  <thead>\n",
       "    <tr style=\"text-align: right;\">\n",
       "      <th></th>\n",
       "      <th>notes</th>\n",
       "      <th>notes_clean</th>\n",
       "    </tr>\n",
       "  </thead>\n",
       "  <tbody>\n",
       "    <tr>\n",
       "      <th>0</th>\n",
       "      <td>Line one\\nLine two</td>\n",
       "      <td>Line one Line two</td>\n",
       "    </tr>\n",
       "    <tr>\n",
       "      <th>1</th>\n",
       "      <td>No newline here</td>\n",
       "      <td>No newline here</td>\n",
       "    </tr>\n",
       "  </tbody>\n",
       "</table>\n",
       "</div>"
      ],
      "text/plain": [
       "                notes        notes_clean\n",
       "0  Line one\\nLine two  Line one Line two\n",
       "1     No newline here    No newline here"
      ]
     },
     "execution_count": 19,
     "metadata": {},
     "output_type": "execute_result"
    }
   ],
   "source": [
    "# Example: Cleaning newlines in a text column\n",
    "df_text = pd.DataFrame({'notes': ['Line one\\nLine two', 'No newline here']})\n",
    "df_text['notes_clean'] = df_text['notes'].str.replace('\\n', ' ', regex=False)\n",
    "df_text"
   ]
  },
  {
   "cell_type": "markdown",
   "id": "11190c97",
   "metadata": {
    "slideshow": {
     "slide_type": "notes"
    }
   },
   "source": [
    "### Other Common Issues to Watch For\n",
    "\n",
    "- **Date formats:** Dates may be in different formats (e.g., `YYYY-MM-DD` vs `DD/MM/YYYY`). Use `pd.to_datetime()` to standardize.\n",
    "- **Missing values:** Not all missing values are `NaN`—sometimes they're empty strings or special codes.\n",
    "- **Data types:** Numbers may be read as text if there are stray characters.\n",
    "\n",
    "Always inspect your data and use pandas tools to clean and standardize!"
   ]
  },
  {
   "cell_type": "markdown",
   "id": "f8922e7f",
   "metadata": {
    "slideshow": {
     "slide_type": "slide"
    }
   },
   "source": [
    "## 9. Links & Next Steps\n",
    "\n",
    "- [pandas documentation](https://pandas.pydata.org/docs/)\n",
    "- Try the next notebook: Automating Repetitive Tasks\n",
    "- Keep experimenting—every dataset is a new opportunity to learn!"
   ]
  }
 ],
 "metadata": {
  "kernelspec": {
   "display_name": "base",
   "language": "python",
   "name": "python3"
  },
  "language_info": {
   "codemirror_mode": {
    "name": "ipython",
    "version": 3
   },
   "file_extension": ".py",
   "mimetype": "text/x-python",
   "name": "python",
   "nbconvert_exporter": "python",
   "pygments_lexer": "ipython3",
   "version": "3.7.12"
  }
 },
 "nbformat": 4,
 "nbformat_minor": 5
}
