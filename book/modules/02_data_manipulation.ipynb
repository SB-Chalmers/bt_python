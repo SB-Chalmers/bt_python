{
 "cells": [
  {
   "cell_type": "markdown",
   "id": "9c440872",
   "metadata": {},
   "source": [
    "# Working with Data in Python\n",
    "\n",
    "This notebook will help you get started with data analysis using Python and pandas. If you've used Excel before, you'll find many familiar concepts—plus some new superpowers!"
   ]
  },
  {
   "cell_type": "markdown",
   "id": "bf628c7b",
   "metadata": {},
   "source": [
    "## 1. Introduction\n",
    "\n",
    "**pandas** is a Python library for working with tabular data (like spreadsheets). It's widely used in research for:\n",
    "- Cleaning and organizing survey results\n",
    "- Combining data from different sources\n",
    "- Calculating quick statistics\n",
    "- Exporting results for reports"
   ]
  },
  {
   "cell_type": "markdown",
   "id": "91c391bf",
   "metadata": {},
   "source": [
    "## 2. Getting Started with pandas\n",
    "\n",
    "Let's import pandas and create a small example dataset. (In practice, you'd load your own CSV file.)"
   ]
  },
  {
   "cell_type": "code",
   "execution_count": null,
   "id": "d6e5409a",
   "metadata": {},
   "outputs": [],
   "source": [
    "import pandas as pd\n",
    "\n",
    "# Example data: research projects\n",
    "data = {\n",
    "    'project': ['Green Roof', 'Solar Study', 'Urban Heat', 'Daylight', 'Retrofit'],\n",
    "    'year': [2021, 2022, 2022, 2023, 2021],\n",
    "    'type': ['Sustainability', 'Energy', 'Climate', 'Lighting', 'Renovation'],\n",
    "    'lead': ['Smith', 'Lee', 'Patel', 'Kim', None],\n",
    "    'budget': [50000, 60000, None, 45000, 30000]\n",
    "}\n",
    "df = pd.DataFrame(data)\n",
    "\n",
    "# Save to CSV for demonstration\n",
    "df.to_csv('projects.csv', index=False)\n",
    "\n",
    "# Read the CSV file (simulating a real workflow)\n",
    "df = pd.read_csv('projects.csv')\n",
    "\n",
    "df.head()  # Show the first few rows"
   ]
  },
  {
   "cell_type": "code",
   "execution_count": null,
   "id": "18fb6493",
   "metadata": {},
   "outputs": [],
   "source": [
    "# Get a summary of the dataframe\n",
    "df.info()"
   ]
  },
  {
   "cell_type": "code",
   "execution_count": null,
   "id": "d2426746",
   "metadata": {},
   "outputs": [],
   "source": [
    "# Quick statistics for numeric columns\n",
    "df.describe()"
   ]
  },
  {
   "cell_type": "markdown",
   "id": "89006154",
   "metadata": {},
   "source": [
    "## 3. Exploring the Data\n",
    "\n",
    "Let's look at how to select columns, filter rows, and sort data."
   ]
  },
  {
   "cell_type": "code",
   "execution_count": null,
   "id": "409a8f18",
   "metadata": {},
   "outputs": [],
   "source": [
    "# Select a single column\n",
    "df['project']"
   ]
  },
  {
   "cell_type": "code",
   "execution_count": null,
   "id": "af448330",
   "metadata": {},
   "outputs": [],
   "source": [
    "# Select multiple columns\n",
    "df[['project', 'year']]"
   ]
  },
  {
   "cell_type": "code",
   "execution_count": null,
   "id": "d4b33f42",
   "metadata": {},
   "outputs": [],
   "source": [
    "# Filter rows: projects from 2022\n",
    "df[df['year'] == 2022]"
   ]
  },
  {
   "cell_type": "code",
   "execution_count": null,
   "id": "9ad8782e",
   "metadata": {},
   "outputs": [],
   "source": [
    "# Sort by budget (highest first)\n",
    "df.sort_values('budget', ascending=False)"
   ]
  },
  {
   "cell_type": "markdown",
   "id": "bc2ca89a",
   "metadata": {},
   "source": [
    "## 4. Cleaning the Data\n",
    "\n",
    "Real-world data is often messy. Let's check for missing values and tidy things up."
   ]
  },
  {
   "cell_type": "code",
   "execution_count": null,
   "id": "39edfe72",
   "metadata": {},
   "outputs": [],
   "source": [
    "# Count missing values in each column\n",
    "df.isnull().sum()"
   ]
  },
  {
   "cell_type": "code",
   "execution_count": null,
   "id": "8899a57e",
   "metadata": {},
   "outputs": [],
   "source": [
    "# Fill missing values in 'lead' with 'Unknown'\n",
    "df['lead'] = df['lead'].fillna('Unknown')\n",
    "\n",
    "# Drop rows where 'budget' is missing\n",
    "df = df.dropna(subset=['budget'])\n",
    "\n",
    "df"
   ]
  },
  {
   "cell_type": "code",
   "execution_count": null,
   "id": "aeee8a5f",
   "metadata": {},
   "outputs": [],
   "source": [
    "# Rename a column\n",
    "df = df.rename(columns={'lead': 'principal_investigator'})\n",
    "df.head()"
   ]
  },
  {
   "cell_type": "code",
   "execution_count": null,
   "id": "2f3536c8",
   "metadata": {},
   "outputs": [],
   "source": [
    "# Remove duplicate rows (if any)\n",
    "df = df.drop_duplicates()\n",
    "df"
   ]
  },
  {
   "cell_type": "markdown",
   "id": "9f0aae81",
   "metadata": {},
   "source": [
    "## 5. Simple Aggregation\n",
    "\n",
    "Let's summarize our data to get useful insights."
   ]
  },
  {
   "cell_type": "code",
   "execution_count": null,
   "id": "806f4830",
   "metadata": {},
   "outputs": [],
   "source": [
    "# Count projects by type\n",
    "df.groupby('type')['project'].count()"
   ]
  },
  {
   "cell_type": "code",
   "execution_count": null,
   "id": "2018e6c9",
   "metadata": {},
   "outputs": [],
   "source": [
    "# Average budget by project type\n",
    "df.groupby('type')['budget'].mean()"
   ]
  },
  {
   "cell_type": "code",
   "execution_count": null,
   "id": "9428221e",
   "metadata": {},
   "outputs": [],
   "source": [
    "# How many projects per year?\n",
    "df['year'].value_counts()"
   ]
  },
  {
   "cell_type": "markdown",
   "id": "83903b45",
   "metadata": {},
   "source": [
    "## 6. Saving Data\n",
    "\n",
    "Once your data is clean, you can export it for use elsewhere."
   ]
  },
  {
   "cell_type": "code",
   "execution_count": null,
   "id": "2be2f7cb",
   "metadata": {},
   "outputs": [],
   "source": [
    "# Save the cleaned dataframe to a new CSV file\n",
    "df.to_csv('projects_cleaned.csv', index=False)"
   ]
  },
  {
   "cell_type": "markdown",
   "id": "335c0e95",
   "metadata": {},
   "source": [
    "## 7. Practice Challenge (Optional)\n",
    "\n",
    "**Task:**\n",
    "- Filter all projects from 2022\n",
    "- Rename the 'type' column to 'category'\n",
    "- Save the result to a new CSV file called `projects_2022.csv`"
   ]
  },
  {
   "cell_type": "markdown",
   "id": "1f51ce6d",
   "metadata": {},
   "source": [
    "## 8. Links & Next Steps\n",
    "\n",
    "- [pandas documentation](https://pandas.pydata.org/docs/)\n",
    "- Try the next notebook: Automating Repetitive Tasks\n",
    "- Keep experimenting—every dataset is a new opportunity to learn!"
   ]
  }
 ],
 "metadata": {
  "language_info": {
   "name": "python"
  }
 },
 "nbformat": 4,
 "nbformat_minor": 5
}
