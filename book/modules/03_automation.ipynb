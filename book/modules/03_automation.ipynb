{
 "cells": [
  {
   "cell_type": "markdown",
   "id": "878d98ef",
   "metadata": {},
   "source": [
    "# Automating Repetitive Tasks\n",
    "\n",
    "This notebook will show you how Python can help automate tasks that are boring or repetitive—like renaming files, cleaning up data, or formatting text. No coding experience needed!"
   ]
  },
  {
   "cell_type": "markdown",
   "id": "6aefe1a3",
   "metadata": {},
   "source": [
    "## 1. Introduction\n",
    "\n",
    "**Automation** means letting the computer do the repetitive work for you. In research, this could be:\n",
    "- Renaming many files at once\n",
    "- Cleaning up dozens of spreadsheets\n",
    "- Standardizing data formats\n",
    "- Generating reports automatically\n",
    "\n",
    "If you've ever copied and pasted the same thing over and over, automation can help!"
   ]
  },
  {
   "cell_type": "markdown",
   "id": "94a735d8",
   "metadata": {},
   "source": [
    "## 2. Python Control Flow Basics\n",
    "\n",
    "Python uses **loops** and **if statements** to repeat actions and make decisions.\n",
    "\n",
    "### Example: Print a message for each project"
   ]
  },
  {
   "cell_type": "code",
   "execution_count": null,
   "id": "491486da",
   "metadata": {},
   "outputs": [],
   "source": [
    "projects = [\"Green Roof\", \"Solar Study\", \"Urban Heat\"]\n",
    "\n",
    "for project in projects:\n",
    "    if \"Solar\" in project:\n",
    "        print(project, \"- Needs extra review!\")\n",
    "    else:\n",
    "        print(project, \"- OK\")"
   ]
  },
  {
   "cell_type": "markdown",
   "id": "6d24d6c9",
   "metadata": {},
   "source": [
    "## 3. Automating File Renaming (Example)\n",
    "\n",
    "Python can rename files for you. We'll use the `os` library to work with files and folders.\n",
    "\n",
    "**Tip:** Always test on a copy or in a 'sandbox' folder so you don't accidentally rename important files!"
   ]
  },
  {
   "cell_type": "code",
   "execution_count": null,
   "id": "15815729",
   "metadata": {},
   "outputs": [],
   "source": [
    "import os\n",
    "\n",
    "# Create a sandbox folder and some fake files (run once)\n",
    "sandbox = \"sandbox_folder\"\n",
    "os.makedirs(sandbox, exist_ok=True)\n",
    "for i in range(1, 4):\n",
    "    with open(os.path.join(sandbox, f\"report_{i}.docx\"), \"w\") as f:\n",
    "        f.write(\"\")\n",
    "\n",
    "# List files before renaming\n",
    "print(\"Before:\", os.listdir(sandbox))\n",
    "\n",
    "# Rename files to include a project code\n",
    "for filename in os.listdir(sandbox):\n",
    "    if filename.startswith(\"report_\") and filename.endswith(\".docx\"):\n",
    "        new_name = filename.replace(\"report_\", \"2023A_report_\")\n",
    "        os.rename(os.path.join(sandbox, filename), os.path.join(sandbox, new_name))\n",
    "\n",
    "# List files after renaming\n",
    "print(\"After:\", os.listdir(sandbox))"
   ]
  },
  {
   "cell_type": "markdown",
   "id": "e71c06d7",
   "metadata": {},
   "source": [
    "## 4. Automating Repetitive Text Formatting\n",
    "\n",
    "Suppose you have a list of project titles that need to be standardized for filenames or database entries."
   ]
  },
  {
   "cell_type": "code",
   "execution_count": null,
   "id": "bf53c202",
   "metadata": {},
   "outputs": [],
   "source": [
    "titles = [\"Green Roof Study!\", \"Solar Study 2022\", \"Urban Heat (Pilot)\"]\n",
    "cleaned = []\n",
    "for title in titles:\n",
    "    t = title.lower().replace(\" \", \"_\").replace(\"!\", \"\").replace(\"(\", \"\").replace(\")\", \"\")\n",
    "    cleaned.append(t)\n",
    "print(cleaned)"
   ]
  },
  {
   "cell_type": "markdown",
   "id": "d80aaaaf",
   "metadata": {},
   "source": [
    "## 5. Automating Simple Data Tasks\n",
    "\n",
    "You can use loops and conditions to process data in a table. Let's label projects as 'high budget' if their funding is over 50,000."
   ]
  },
  {
   "cell_type": "code",
   "execution_count": null,
   "id": "726a39f7",
   "metadata": {},
   "outputs": [],
   "source": [
    "import pandas as pd\n",
    "\n",
    "df = pd.DataFrame({\n",
    "    'project': ['Green Roof', 'Solar Study', 'Urban Heat'],\n",
    "    'funding': [50000, 120000, 30000]\n",
    "})\n",
    "\n",
    "# Create a new column based on a condition\n",
    "df['budget_label'] = 'low budget'\n",
    "df.loc[df['funding'] > 100000, 'budget_label'] = 'high budget'\n",
    "df"
   ]
  },
  {
   "cell_type": "markdown",
   "id": "830cc56b",
   "metadata": {},
   "source": [
    "## 6. Saving Your Results\n",
    "\n",
    "You can save your updated data to a new CSV file. This is useful for sharing or further analysis."
   ]
  },
  {
   "cell_type": "code",
   "execution_count": null,
   "id": "c4ccc677",
   "metadata": {},
   "outputs": [],
   "source": [
    "df.to_csv('projects_with_labels.csv', index=False)\n",
    "print(\"Saved to projects_with_labels.csv\")"
   ]
  },
  {
   "cell_type": "markdown",
   "id": "63f3ef62",
   "metadata": {},
   "source": [
    "## 7. Challenge Task (Optional)\n",
    "\n",
    "**Exercise:**\n",
    "- Imagine you have 5 raw data files.\n",
    "- Write a script to load them, clean the column names (make lowercase, replace spaces with underscores), and export cleaned versions."
   ]
  },
  {
   "cell_type": "markdown",
   "id": "88f3fccf",
   "metadata": {},
   "source": [
    "## 8. Summary & Next Steps\n",
    "\n",
    "- Automation helps you save time and avoid mistakes in repetitive tasks.\n",
    "- Start small—automate one step at a time.\n",
    "- If a task gets too complex or risky, pause and ask for help.\n",
    "\n",
    "Keep exploring! Even simple scripts can make your research workflow much smoother."
   ]
  }
 ],
 "metadata": {
  "language_info": {
   "name": "python"
  }
 },
 "nbformat": 4,
 "nbformat_minor": 5
}
