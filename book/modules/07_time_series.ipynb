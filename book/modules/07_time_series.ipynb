{
 "cells": [
  {
   "cell_type": "markdown",
   "id": "4dd66724",
   "metadata": {},
   "source": [
    "# Python for Time-Series Data (Optional)\n",
    "\n",
    "This notebook introduces time-series analysis in Python for researchers working with data that changes over time—like energy use, weather, or occupancy logs."
   ]
  },
  {
   "cell_type": "markdown",
   "id": "7d12d49f",
   "metadata": {},
   "source": [
    "## 1. Introduction\n",
    "\n",
    "**Time-series data** is any data where each value is associated with a specific date and/or time.\n",
    "\n",
    "**Examples:**\n",
    "- Electricity consumption measured every hour\n",
    "- Indoor temperature logs\n",
    "- Survey responses with timestamps\n",
    "\n",
    "Python (with pandas) makes it easy to filter, analyze, and plot time-based data—much faster and more flexibly than spreadsheets."
   ]
  },
  {
   "cell_type": "markdown",
   "id": "4f9dca03",
   "metadata": {},
   "source": [
    "## 2. Loading and Preparing the Data\n",
    "\n",
    "Let's create a small sample dataset (in practice, you'd load your own CSV)."
   ]
  },
  {
   "cell_type": "code",
   "execution_count": null,
   "id": "7b88a04b",
   "metadata": {},
   "outputs": [],
   "source": [
    "import pandas as pd\n",
    "import matplotlib.pyplot as plt\n",
    "\n",
    "# Sample data: hourly electricity use for 10 days\n",
    "import numpy as np\n",
    "rng = pd.date_range('2023-01-01', periods=240, freq='H')\n",
    "usage = np.random.normal(loc=5, scale=2, size=len(rng))\n",
    "df = pd.DataFrame({'timestamp': rng, 'electricity_kWh': usage})\n",
    "\n",
    "# Save to CSV for demonstration\n",
    "df.to_csv('energy_data.csv', index=False)\n",
    "\n",
    "# Load the data\n",
    "df = pd.read_csv('energy_data.csv')\n",
    "df.head()"
   ]
  },
  {
   "cell_type": "code",
   "execution_count": null,
   "id": "cf180c17",
   "metadata": {},
   "outputs": [],
   "source": [
    "# Convert the timestamp column to datetime\n",
    "df['timestamp'] = pd.to_datetime(df['timestamp'])\n",
    "\n",
    "# Set the datetime column as the index\n",
    "df = df.set_index('timestamp')\n",
    "df.head()"
   ]
  },
  {
   "cell_type": "markdown",
   "id": "18a37073",
   "metadata": {},
   "source": [
    "## 3. Exploring and Visualizing Time-Series\n",
    "\n",
    "Let's plot the data and zoom in to a specific time range."
   ]
  },
  {
   "cell_type": "code",
   "execution_count": null,
   "id": "86ee4b76",
   "metadata": {},
   "outputs": [],
   "source": [
    "# Plot the full time-series\n",
    "df['electricity_kWh'].plot(figsize=(10,4), title='Electricity Use Over Time')\n",
    "plt.ylabel('kWh')\n",
    "plt.show()"
   ]
  },
  {
   "cell_type": "code",
   "execution_count": null,
   "id": "a6f3d148",
   "metadata": {},
   "outputs": [],
   "source": [
    "# Filter data for January 3rd\n",
    "df_jan3 = df['2023-01-03']\n",
    "df_jan3['electricity_kWh'].plot(title='Electricity Use on Jan 3')\n",
    "plt.ylabel('kWh')\n",
    "plt.show()"
   ]
  },
  {
   "cell_type": "code",
   "execution_count": null,
   "id": "5ee80f09",
   "metadata": {},
   "outputs": [],
   "source": [
    "# Plot a 24-hour moving average\n",
    "df['moving_avg'] = df['electricity_kWh'].rolling(window=24).mean()\n",
    "df[['electricity_kWh', 'moving_avg']].plot(figsize=(10,4), title='Electricity Use and 24h Moving Average')\n",
    "plt.ylabel('kWh')\n",
    "plt.show()"
   ]
  },
  {
   "cell_type": "markdown",
   "id": "b6499701",
   "metadata": {},
   "source": [
    "## 4. Resampling and Aggregating\n",
    "\n",
    "You can easily summarize time-series data by day, week, or month."
   ]
  },
  {
   "cell_type": "code",
   "execution_count": null,
   "id": "36dd27ae",
   "metadata": {},
   "outputs": [],
   "source": [
    "# Daily average electricity use\n",
    "daily_avg = df['electricity_kWh'].resample('D').mean()\n",
    "print(daily_avg.head())\n",
    "\n",
    "# Weekly total electricity use\n",
    "weekly_sum = df['electricity_kWh'].resample('W').sum()\n",
    "print(weekly_sum.head())\n",
    "\n",
    "# Plot monthly totals (if data covers multiple months)\n",
    "monthly_sum = df['electricity_kWh'].resample('M').sum()\n",
    "monthly_sum.plot(kind='bar', title='Monthly Total Electricity Use')\n",
    "plt.ylabel('kWh')\n",
    "plt.show()"
   ]
  },
  {
   "cell_type": "markdown",
   "id": "fa8d0557",
   "metadata": {},
   "source": [
    "## 5. Handling Missing or Gappy Data\n",
    "\n",
    "Let's see how to find and fill missing values."
   ]
  },
  {
   "cell_type": "code",
   "execution_count": null,
   "id": "f8b929fe",
   "metadata": {},
   "outputs": [],
   "source": [
    "# Simulate missing data\n",
    "df_missing = df.copy()\n",
    "df_missing.iloc[10:20] = np.nan\n",
    "\n",
    "# Check for missing timestamps\n",
    "print(df_missing.isnull().sum())\n",
    "\n",
    "# Fill gaps with previous value (forward fill)\n",
    "df_filled = df_missing.fillna(method='ffill')\n",
    "\n",
    "# Or interpolate missing values\n",
    "df_interp = df_missing.interpolate()\n",
    "\n",
    "# Drop missing rows if needed\n",
    "df_dropped = df_missing.dropna()"
   ]
  },
  {
   "cell_type": "markdown",
   "id": "37bcff6c",
   "metadata": {},
   "source": [
    "## 6. Extracting Features from Timestamps\n",
    "\n",
    "You can extract useful information from the datetime index, like hour of day or weekday."
   ]
  },
  {
   "cell_type": "code",
   "execution_count": null,
   "id": "1f2a9912",
   "metadata": {},
   "outputs": [],
   "source": [
    "# Add hour and weekday columns\n",
    "df['hour'] = df.index.hour\n",
    "df['weekday'] = df.index.dayofweek\n",
    "\n",
    "# Average profile by hour of day\n",
    "hourly_profile = df.groupby('hour')['electricity_kWh'].mean()\n",
    "hourly_profile.plot(title='Average Electricity Use by Hour of Day')\n",
    "plt.ylabel('kWh')\n",
    "plt.show()\n",
    "\n",
    "# Compare weekdays vs weekends\n",
    "weekday_profile = df.groupby('weekday')['electricity_kWh'].mean()\n",
    "weekday_profile.plot(kind='bar', title='Average Use by Day of Week (0=Mon)')\n",
    "plt.ylabel('kWh')\n",
    "plt.show()"
   ]
  },
  {
   "cell_type": "markdown",
   "id": "9e86f1d9",
   "metadata": {},
   "source": [
    "## 7. Saving Results\n",
    "\n",
    "You can export your cleaned or aggregated data, and save plots for reports."
   ]
  },
  {
   "cell_type": "code",
   "execution_count": null,
   "id": "a939badb",
   "metadata": {},
   "outputs": [],
   "source": [
    "# Save daily averages to CSV\n",
    "daily_avg.to_csv('daily_avg.csv')\n",
    "\n",
    "# Save a plot as an image\n",
    "fig, ax = plt.subplots()\n",
    "df['electricity_kWh'].plot(ax=ax, title='Electricity Use Over Time')\n",
    "plt.ylabel('kWh')\n",
    "fig.savefig('electricity_timeseries.png')"
   ]
  },
  {
   "cell_type": "markdown",
   "id": "5d45d94c",
   "metadata": {},
   "source": [
    "## 8. Practice Task (Optional)\n",
    "\n",
    "**Challenge:**\n",
    "- Resample to weekly averages\n",
    "- Plot a moving average\n",
    "- Filter the data for January"
   ]
  },
  {
   "cell_type": "markdown",
   "id": "fba56a65",
   "metadata": {},
   "source": [
    "## 9. Summary & Resources\n",
    "\n",
    "**Key skills:**\n",
    "- Convert strings to datetime\n",
    "- Resample and aggregate time-series\n",
    "- Plot and filter by date\n",
    "\n",
    "### Further Reading\n",
    "- [pandas time-series documentation](https://pandas.pydata.org/docs/user_guide/timeseries.html)\n",
    "- [matplotlib documentation](https://matplotlib.org/stable/users/index.html)\n",
    "\n",
    "With these basics, you can confidently analyze and visualize timestamped data in your research!"
   ]
  }
 ],
 "metadata": {
  "language_info": {
   "name": "python"
  }
 },
 "nbformat": 4,
 "nbformat_minor": 5
}
