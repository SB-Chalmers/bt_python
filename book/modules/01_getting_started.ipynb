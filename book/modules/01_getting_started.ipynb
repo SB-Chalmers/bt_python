{
 "cells": [
  {
   "cell_type": "markdown",
   "id": "e16e03d4",
   "metadata": {
    "slideshow": {
     "slide_type": "slide"
    }
   },
   "source": [
    "# Getting Started with Python\n",
    "\n",
    "Welcome! This notebook is designed to help researchers in architecture and related fields take their first steps with Python. No programming experience is required—just curiosity!"
   ]
  },
  {
   "cell_type": "markdown",
   "id": "7904d08d",
   "metadata": {
    "slideshow": {
     "slide_type": "slide"
    }
   },
   "source": [
    "## 1. Why Python for Research?\n",
    "\n",
    "Python is a popular language for data analysis, automation, and visualization. Many researchers use it to:\n",
    "- Organize and analyze data\n",
    "- Automate repetitive tasks\n",
    "- Create visualizations and reports\n",
    "\n",
    "You may have used tools like Excel before—Python can help you do even more, often with less effort."
   ]
  },
  {
   "cell_type": "markdown",
   "id": "7c7ecc4b",
   "metadata": {
    "slideshow": {
     "slide_type": "slide"
    }
   },
   "source": [
    "### What You'll Learn Here\n",
    "- What Python is and how it fits into research workflows\n",
    "- How to write and run simple Python code\n",
    "- How to use Jupyter Notebooks (like this one) and Google Colab\n",
    "- Basic Python concepts: variables, data types, lists, and dictionaries"
   ]
  },
  {
   "cell_type": "markdown",
   "id": "689136ae",
   "metadata": {
    "slideshow": {
     "slide_type": "slide"
    }
   },
   "source": [
    "## 2. Using Python in a Notebook\n",
    "\n",
    "Jupyter Notebooks are interactive documents that mix code and text. Each box you see is called a **cell**.\n",
    "\n",
    "- **Code cells** (like the one below) let you write and run Python code.\n",
    "- **Markdown cells** (like this one) are for explanations, notes, and formatting.\n",
    "\n",
    "To run a code cell, click on it and press **Shift + Enter**."
   ]
  },
  {
   "cell_type": "code",
   "execution_count": 2,
   "id": "83e20b70",
   "metadata": {
    "slideshow": {
     "slide_type": "slide"
    }
   },
   "outputs": [
    {
     "name": "stdout",
     "output_type": "stream",
     "text": [
      "Hello researcher!\n"
     ]
    }
   ],
   "source": [
    "# Try running this cell!\n",
    "print(\"Hello researcher!\")"
   ]
  },
  {
   "cell_type": "markdown",
   "id": "40868186",
   "metadata": {
    "slideshow": {
     "slide_type": "slide"
    }
   },
   "source": [
    "## 3. Basic Python Syntax\n",
    "\n",
    "Let's look at some simple building blocks of Python."
   ]
  },
  {
   "cell_type": "markdown",
   "id": "422668da",
   "metadata": {
    "slideshow": {
     "slide_type": "slide"
    }
   },
   "source": [
    "### Variables\n",
    "Variables store information. You can name them almost anything (just avoid spaces and special characters)."
   ]
  },
  {
   "cell_type": "code",
   "execution_count": 3,
   "id": "73c484ec",
   "metadata": {
    "slideshow": {
     "slide_type": "slide"
    }
   },
   "outputs": [
    {
     "name": "stdout",
     "output_type": "stream",
     "text": [
      "Green Roof Study\n",
      "2024\n",
      "False\n"
     ]
    }
   ],
   "source": [
    "# Assigning values to variables\n",
    "project_name = \"Green Roof Study\"\n",
    "year = 2024\n",
    "is_completed = False\n",
    "\n",
    "print(project_name)\n",
    "print(year)\n",
    "print(is_completed)"
   ]
  },
  {
   "cell_type": "markdown",
   "id": "9227b065",
   "metadata": {
    "slideshow": {
     "slide_type": "slide"
    }
   },
   "source": [
    "### Data Types\n",
    "- **String**: Text, e.g. \"Hello\"\n",
    "- **Integer**: Whole numbers, e.g. 5\n",
    "- **Float**: Decimal numbers, e.g. 3.14\n",
    "- **Boolean**: True or False"
   ]
  },
  {
   "cell_type": "code",
   "execution_count": 4,
   "id": "abb7813a",
   "metadata": {
    "slideshow": {
     "slide_type": "slide"
    }
   },
   "outputs": [
    {
     "name": "stdout",
     "output_type": "stream",
     "text": [
      "<class 'str'>\n",
      "<class 'int'>\n",
      "<class 'float'>\n",
      "<class 'bool'>\n"
     ]
    }
   ],
   "source": [
    "# Examples of different data types\n",
    "building = \"Library\"      # string\n",
    "floors = 3                # integer\n",
    "height = 12.5             # float\n",
    "has_basement = True       # boolean\n",
    "\n",
    "print(type(building))\n",
    "print(type(floors))\n",
    "print(type(height))\n",
    "print(type(has_basement))"
   ]
  },
  {
   "cell_type": "markdown",
   "id": "8254d9be",
   "metadata": {
    "slideshow": {
     "slide_type": "slide"
    }
   },
   "source": [
    "### Lists and Dictionaries\n",
    "\n",
    "- **List**: An ordered collection of items (like a column in Excel)\n",
    "- **Dictionary**: Stores data as key-value pairs (like a table with named columns)"
   ]
  },
  {
   "cell_type": "code",
   "execution_count": 5,
   "id": "89a3a9d0",
   "metadata": {
    "slideshow": {
     "slide_type": "slide"
    }
   },
   "outputs": [
    {
     "name": "stdout",
     "output_type": "stream",
     "text": [
      "['Concept', 'Design', 'Construction']\n",
      "{'title': 'Urban Heat Study', 'year': 2022, 'lead': 'Dr. Lee'}\n"
     ]
    }
   ],
   "source": [
    "# List example: project phases\n",
    "phases = [\"Concept\", \"Design\", \"Construction\"]\n",
    "print(phases)\n",
    "\n",
    "# Dictionary example: project details\n",
    "project = {\n",
    "    \"title\": \"Urban Heat Study\",\n",
    "    \"year\": 2022,\n",
    "    \"lead\": \"Dr. Lee\"\n",
    "}\n",
    "print(project)"
   ]
  },
  {
   "cell_type": "markdown",
   "id": "de55fb8e",
   "metadata": {
    "slideshow": {
     "slide_type": "slide"
    }
   },
   "source": [
    "## 4. Real-World Example\n",
    "\n",
    "Let's describe a research project using a dictionary and list its tasks."
   ]
  },
  {
   "cell_type": "code",
   "execution_count": 6,
   "id": "0f2fd2a2",
   "metadata": {
    "slideshow": {
     "slide_type": "slide"
    }
   },
   "outputs": [
    {
     "name": "stdout",
     "output_type": "stream",
     "text": [
      "Project Title: Daylight Analysis\n",
      "Year: 2023\n",
      "PI: Prof. Kim\n",
      "Tasks:\n",
      "- Collect data\n",
      "- Run simulations\n",
      "- Write report\n"
     ]
    }
   ],
   "source": [
    "# Project information\n",
    "project_info = {\n",
    "    \"title\": \"Daylight Analysis\",\n",
    "    \"year\": 2023,\n",
    "    \"principal_investigator\": \"Prof. Kim\"\n",
    "}\n",
    "\n",
    "print(\"Project Title:\", project_info[\"title\"])\n",
    "print(\"Year:\", project_info[\"year\"])\n",
    "print(\"PI:\", project_info[\"principal_investigator\"])\n",
    "\n",
    "# List of tasks\n",
    "tasks = [\"Collect data\", \"Run simulations\", \"Write report\"]\n",
    "print(\"Tasks:\")\n",
    "for task in tasks:\n",
    "    print(\"-\", task)"
   ]
  },
  {
   "cell_type": "markdown",
   "id": "72995ad9",
   "metadata": {
    "slideshow": {
     "slide_type": "slide"
    }
   },
   "source": [
    "## 5. Helpful Tips & Common Pitfalls\n",
    "\n",
    "- Use lowercase letters and underscores for variable names (e.g. `project_title`)\n",
    "- Don't use spaces or special characters in variable names\n",
    "- Be consistent with single (`'`) or double (`\"`) quotes\n",
    "- Lists should contain similar types of data (e.g. all strings or all numbers)"
   ]
  },
  {
   "cell_type": "markdown",
   "id": "fd6fd04a",
   "metadata": {
    "slideshow": {
     "slide_type": "slide"
    }
   },
   "source": [
    "## 6. Next Steps\n",
    "\n",
    "- Set up your Python environment using [Google Colab](https://colab.research.google.com/) or [Anaconda](https://www.anaconda.com/).\n",
    "- Proceed to the next notebook on Data Manipulation.\n",
    "- Check out Python cheat sheets and beginner guides for further learning."
   ]
  }
 ],
 "metadata": {
  "celltoolbar": "Slideshow",
  "kernelspec": {
   "display_name": "Python 3 (ipykernel)",
   "language": "python",
   "name": "python3"
  },
  "language_info": {
   "codemirror_mode": {
    "name": "ipython",
    "version": 3
   },
   "file_extension": ".py",
   "mimetype": "text/x-python",
   "name": "python",
   "nbconvert_exporter": "python",
   "pygments_lexer": "ipython3",
   "version": "3.7.12"
  }
 },
 "nbformat": 4,
 "nbformat_minor": 5
}
