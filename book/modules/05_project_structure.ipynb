{
 "cells": [
  {
   "cell_type": "markdown",
   "id": "0bcbe644",
   "metadata": {},
   "source": [
    "# Organising and Sharing Your Work\n",
    "\n",
    "This notebook will help you structure your Python research projects so they're easier to understand, share, and reuse—by you or anyone else."
   ]
  },
  {
   "cell_type": "markdown",
   "id": "68054056",
   "metadata": {},
   "source": [
    "## 1. Introduction\n",
    "\n",
    "A tidy project structure makes your work more reproducible, easier to collaborate on, and less stressful to revisit later. Good organization helps you (and others) understand what you did—even months or years later.\n",
    "\n",
    "> **Future You will thank Present You!**"
   ]
  },
  {
   "cell_type": "markdown",
   "id": "8ae7bc54",
   "metadata": {},
   "source": [
    "## 2. Recommended Folder Structure\n",
    "\n",
    "Here's a simple layout you can use for almost any research project:\n",
    "\n",
    "```\n",
    "my_project/\n",
    "├── data/\n",
    "│   ├── raw/\n",
    "│   └── processed/\n",
    "├── notebooks/\n",
    "├── src/\n",
    "├── output/\n",
    "├── README.md\n",
    "└── requirements.txt  (or environment.yml)\n",
    "```\n",
    "\n",
    "- **data/raw/**: Original, untouched data files\n",
    "- **data/processed/**: Cleaned or transformed data\n",
    "- **notebooks/**: Jupyter notebooks for analysis\n",
    "- **src/**: Python scripts (functions, helpers)\n",
    "- **output/**: Results, figures, tables, reports\n",
    "- **README.md**: Project overview and instructions\n",
    "- **requirements.txt**: List of Python packages needed\n",
    "\n",
    "> **Tip:** Start every project with a clear folder layout, even if it’s small."
   ]
  },
  {
   "cell_type": "markdown",
   "id": "b760e95f",
   "metadata": {},
   "source": [
    "## 3. Writing a README\n",
    "\n",
    "A `README.md` file explains what your project is, what data it needs, how to run it, and what outputs to expect. Use plain language and keep it up to date.\n",
    "\n",
    "Example:\n",
    "\n",
    "```markdown\n",
    "# Urban Heat Analysis\n",
    "\n",
    "This project analyzes temperature data from multiple cities.\n",
    "\n",
    "## Data\n",
    "- Place raw CSV files in `data/raw/`.\n",
    "\n",
    "## How to Run\n",
    "- Open `notebooks/analysis.ipynb`.\n",
    "- Run all cells.\n",
    "\n",
    "## Outputs\n",
    "- Cleaned data in `data/processed/`.\n",
    "- Figures in `output/`.\n",
    "```"
   ]
  },
  {
   "cell_type": "markdown",
   "id": "ad58afd5",
   "metadata": {},
   "source": [
    "## 4. Saving and Referencing Files\n",
    "\n",
    "Always use **relative paths** (like `data/processed/file.csv`) instead of absolute paths (like `C:/Users/yourname/...`). This makes your project portable and easier to share.\n",
    "\n",
    "You can use Python's `os` or `pathlib` to build paths safely:"
   ]
  },
  {
   "cell_type": "code",
   "execution_count": null,
   "id": "bfb3c2a7",
   "metadata": {},
   "outputs": [],
   "source": [
    "from pathlib import Path\n",
    "\n",
    "# Define a path to a processed data file\n",
    "data_dir = Path('data/processed')\n",
    "file_path = data_dir / 'cleaned_data.csv'\n",
    "\n",
    "# Save a DataFrame (example)\n",
    "# df.to_csv(file_path, index=False)\n",
    "\n",
    "print(\"Saving to:\", file_path)"
   ]
  },
  {
   "cell_type": "markdown",
   "id": "2ec99a24",
   "metadata": {},
   "source": [
    "## 5. Sharing Your Project\n",
    "\n",
    "GitHub is a free platform for sharing code and collaborating. You can upload your project folder, notebooks, and data (if allowed) to a GitHub repository.\n",
    "\n",
    "- Create a free account at [github.com](https://github.com/)\n",
    "- Click 'New repository' and follow the instructions\n",
    "- Upload your files (or drag-and-drop the whole folder)\n",
    "\n",
    "Benefits:\n",
    "- **Version control**: Track changes and go back if needed\n",
    "- **Visibility**: Share your work with collaborators or the public\n",
    "- **Backup**: Keep your work safe\n",
    "\n",
    "> For extra credit: Use [Zenodo](https://zenodo.org/) to generate a DOI for your GitHub repo, making it citable in publications.\n",
    "\n",
    "Even a simple GitHub repo with a README is enough to make your work shareable and reusable."
   ]
  },
  {
   "cell_type": "markdown",
   "id": "5781d4c0",
   "metadata": {},
   "source": [
    "## 6. Checklist for a Reusable Project\n",
    "\n",
    "Use this checklist to make sure your project is easy to use and share:\n",
    "\n",
    "- [ ] Clear folder structure\n",
    "- [ ] Clean and documented notebook(s)\n",
    "- [ ] README with purpose and instructions\n",
    "- [ ] Versioned or published on GitHub/Zenodo"
   ]
  },
  {
   "cell_type": "markdown",
   "id": "2d70df73",
   "metadata": {},
   "source": [
    "## 7. Wrap-Up & Next Steps\n",
    "\n",
    "Try organizing your current or next project using this template. It will make collaboration, publishing, and revisiting your work much easier.\n",
    "\n",
    "### Useful Links\n",
    "- [Cookiecutter Data Science](https://drivendata.github.io/cookiecutter-data-science/)\n",
    "- [GitHub Hello World Guide](https://guides.github.com/activities/hello-world/)\n",
    "\n",
    "A little structure now saves a lot of time later!"
   ]
  }
 ],
 "metadata": {
  "language_info": {
   "name": "python"
  }
 },
 "nbformat": 4,
 "nbformat_minor": 5
}
