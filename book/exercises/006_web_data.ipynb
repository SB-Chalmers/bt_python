{
 "cells": [
  {
   "cell_type": "markdown",
   "id": "c0c5c059",
   "metadata": {},
   "source": [
    "# Getting Data from the Web 🌐\n",
    "\n",
    "Let's fetch some real-world data! In this notebook, you'll learn how to use Python to get data from a web API, explore it, and turn it into a DataFrame.\n",
    "\n",
    "**Learning objectives:**\n",
    "- Use `requests` to access an API\n",
    "- Parse JSON data\n",
    "- Convert data to a DataFrame"
   ]
  },
  {
   "cell_type": "markdown",
   "id": "a07ad8d1",
   "metadata": {},
   "source": [
    "## 1. Fetch Data from a Public API\n",
    "\n",
    "We'll use the [JSONPlaceholder](https://jsonplaceholder.typicode.com/) API, which is great for practice. Fetch the list of users from `https://jsonplaceholder.typicode.com/users`.\n",
    "\n",
    "Import the `requests` library and get the data."
   ]
  },
  {
   "cell_type": "code",
   "execution_count": null,
   "id": "712edfbc",
   "metadata": {},
   "outputs": [],
   "source": [
    "import requests\n",
    "\n",
    "url = 'https://jsonplaceholder.typicode.com/users'\n",
    "response = requests.get(url)\n",
    "\n",
    "# Print the status code to check if it worked\n",
    "print(response.status_code)"
   ]
  },
  {
   "cell_type": "markdown",
   "id": "01bb3e10",
   "metadata": {},
   "source": [
    "## 2. Explore the JSON Response\n",
    "\n",
    "Print the JSON data you received. What keys do you see? What does the structure look like?"
   ]
  },
  {
   "cell_type": "code",
   "execution_count": null,
   "id": "b9c2a7f2",
   "metadata": {},
   "outputs": [],
   "source": [
    "# Print the JSON data\n",
    "data = response.json()\n",
    "print(data)"
   ]
  },
  {
   "cell_type": "markdown",
   "id": "7c2e0768",
   "metadata": {},
   "source": [
    "## 3. Extract Values into a List or Dictionary\n",
    "\n",
    "Pick a few fields from each user (like `name`, `email`, and `company`). Create a list of dictionaries with just those fields."
   ]
  },
  {
   "cell_type": "code",
   "execution_count": null,
   "id": "8285fbfb",
   "metadata": {},
   "outputs": [],
   "source": [
    "# Your code here"
   ]
  },
  {
   "cell_type": "markdown",
   "id": "94c81cdd",
   "metadata": {},
   "source": [
    "## 4. Convert to a DataFrame\n",
    "\n",
    "Turn your list of dictionaries into a pandas DataFrame and display it."
   ]
  },
  {
   "cell_type": "code",
   "execution_count": null,
   "id": "92a13b65",
   "metadata": {},
   "outputs": [],
   "source": [
    "import pandas as pd\n",
    "\n",
    "# Your code here"
   ]
  },
  {
   "cell_type": "markdown",
   "id": "663e52f6",
   "metadata": {},
   "source": [
    "## Bonus: Try Another API\n",
    "\n",
    "Find another public API (for example, [Open-Meteo](https://open-meteo.com/)) and try fetching and displaying some data from it!"
   ]
  },
  {
   "cell_type": "code",
   "execution_count": null,
   "id": "27275ace",
   "metadata": {},
   "outputs": [],
   "source": [
    "# Your code here"
   ]
  },
  {
   "cell_type": "markdown",
   "id": "3378e338",
   "metadata": {},
   "source": [
    "---\n",
    "## Reflection\n",
    "\n",
    "What was the most interesting thing you learned about getting data from the web? How could you use this in your own research?"
   ]
  }
 ],
 "metadata": {
  "language_info": {
   "name": "python"
  }
 },
 "nbformat": 4,
 "nbformat_minor": 5
}
