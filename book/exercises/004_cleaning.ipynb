{
 "cells": [
  {
   "cell_type": "markdown",
   "id": "9f542b94",
   "metadata": {},
   "source": [
    "# Data Cleaning: Make Your Data Shine ✨\n",
    "\n",
    "Messy data? No problem! In this notebook, you'll learn how to tidy up your datasets using pandas. Clean data helps you get better results in your research.\n",
    "\n",
    "**Learning objectives:**\n",
    "- Handle missing values\n",
    "- Rename columns\n",
    "- Drop duplicates"
   ]
  },
  {
   "cell_type": "markdown",
   "id": "8e18d729",
   "metadata": {},
   "source": [
    "## 1. Load Messy Data\n",
    "\n",
    "Import pandas and load a CSV file that contains missing values or messy column names. (You can make a tiny CSV yourself if you don't have one handy.)\n",
    "\n",
    "Take a look at the first few rows."
   ]
  },
  {
   "cell_type": "code",
   "execution_count": null,
   "id": "df70761e",
   "metadata": {},
   "outputs": [],
   "source": [
    "import pandas as pd\n",
    "\n",
    "# Replace 'messy_data.csv' with your actual file path\n",
    "df = pd.read_csv('messy_data.csv')\n",
    "df.head()"
   ]
  },
  {
   "cell_type": "markdown",
   "id": "b8c204b4",
   "metadata": {},
   "source": [
    "## 2. Handle Missing Values\n",
    "\n",
    "Check for missing values in your data. Try filling them with a value (like 0 or 'unknown') or dropping rows with missing data.\n",
    "\n",
    "*Hint: Use `df.isnull().sum()`, `df.fillna()`, or `df.dropna()`*"
   ]
  },
  {
   "cell_type": "code",
   "execution_count": null,
   "id": "b00c94a0",
   "metadata": {},
   "outputs": [],
   "source": [
    "# Your code here"
   ]
  },
  {
   "cell_type": "markdown",
   "id": "a95deb6d",
   "metadata": {},
   "source": [
    "## 3. Rename Columns\n",
    "\n",
    "Make your column names easier to work with! Rename them to use only lowercase letters and underscores (e.g., `Total Energy` → `total_energy`).\n",
    "\n",
    "*Hint: Use `df.rename()` or set `df.columns` directly*"
   ]
  },
  {
   "cell_type": "code",
   "execution_count": null,
   "id": "af02e96f",
   "metadata": {},
   "outputs": [],
   "source": [
    "# Your code here"
   ]
  },
  {
   "cell_type": "markdown",
   "id": "557f2410",
   "metadata": {},
   "source": [
    "## 4. Remove Duplicate Rows\n",
    "\n",
    "Check if your data has any duplicate rows. Remove them and print the cleaned DataFrame.\n",
    "\n",
    "*Hint: Use `df.duplicated()` and `df.drop_duplicates()`*"
   ]
  },
  {
   "cell_type": "code",
   "execution_count": null,
   "id": "e3269cca",
   "metadata": {},
   "outputs": [],
   "source": [
    "# Your code here"
   ]
  },
  {
   "cell_type": "markdown",
   "id": "61e897ab",
   "metadata": {},
   "source": [
    "## Bonus: Save Your Clean Data\n",
    "\n",
    "Save your cleaned DataFrame to a new CSV file (for example, `clean_data.csv`).\n",
    "\n",
    "*Hint: Use `df.to_csv()`*"
   ]
  },
  {
   "cell_type": "code",
   "execution_count": null,
   "id": "16fc93cc",
   "metadata": {},
   "outputs": [],
   "source": [
    "# Your code here"
   ]
  },
  {
   "cell_type": "markdown",
   "id": "66be2567",
   "metadata": {},
   "source": [
    "---\n",
    "## Reflection\n",
    "\n",
    "What was the trickiest part of cleaning your data? How might these steps help you in your own research projects?"
   ]
  }
 ],
 "metadata": {
  "language_info": {
   "name": "python"
  }
 },
 "nbformat": 4,
 "nbformat_minor": 5
}
