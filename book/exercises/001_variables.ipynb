{
 "cells": [
  {
   "cell_type": "markdown",
   "id": "e16a85f8",
   "metadata": {},
   "source": [
    "# Variables and Data Types\n",
    "\n",
    "Welcome! In this notebook, you'll practice using variables and basic data types in Python. These are the building blocks for working with data in research.\n",
    "\n",
    "**Learning objectives:**\n",
    "- Create and use variables\n",
    "- Work with strings, numbers, and booleans\n",
    "- Use `print()` and `type()` to explore your data"
   ]
  },
  {
   "cell_type": "markdown",
   "id": "c9eff908",
   "metadata": {},
   "source": [
    "## 1. Assign and Print Variables\n",
    "\n",
    "Assign a variable for your research project title (as a string) and another for the year (as a number). Print both variables."
   ]
  },
  {
   "cell_type": "code",
   "execution_count": null,
   "id": "3a3c506b",
   "metadata": {},
   "outputs": [],
   "source": [
    "# Your code here"
   ]
  },
  {
   "cell_type": "markdown",
   "id": "2680948d",
   "metadata": {},
   "source": [
    "## 2. Combine Strings\n",
    "\n",
    "Combine your project title with the year using the `+` operator to make a single string (e.g., \"Project X 2024\"). Print the result."
   ]
  },
  {
   "cell_type": "code",
   "execution_count": null,
   "id": "606741d2",
   "metadata": {},
   "outputs": [],
   "source": [
    "# Your code here"
   ]
  },
  {
   "cell_type": "markdown",
   "id": "f4405834",
   "metadata": {},
   "source": [
    "## 3. Check Variable Types\n",
    "\n",
    "Use the `type()` function to check the data type of your variables from above. Print the types."
   ]
  },
  {
   "cell_type": "code",
   "execution_count": null,
   "id": "88e6e952",
   "metadata": {},
   "outputs": [],
   "source": [
    "# Your code here"
   ]
  },
  {
   "cell_type": "markdown",
   "id": "3457a83e",
   "metadata": {},
   "source": [
    "## 4. Convert Strings to Numbers\n",
    "\n",
    "Suppose you have a string variable with a number in it (e.g., `\"2024\"`). Convert it to an integer and print the result and its type."
   ]
  },
  {
   "cell_type": "code",
   "execution_count": null,
   "id": "c55511a4",
   "metadata": {},
   "outputs": [],
   "source": [
    "# Your code here"
   ]
  },
  {
   "cell_type": "markdown",
   "id": "643eb461",
   "metadata": {},
   "source": [
    "## 5. Bonus: Booleans in Research\n",
    "\n",
    "Create a variable called `data_collected` and set it to `True` or `False` depending on whether you have collected your research data. Print the variable and its type."
   ]
  },
  {
   "cell_type": "code",
   "execution_count": null,
   "id": "ca400ed7",
   "metadata": {},
   "outputs": [],
   "source": [
    "# Your code here"
   ]
  },
  {
   "cell_type": "markdown",
   "id": "ea0eef7a",
   "metadata": {},
   "source": [
    "---\n",
    "## Reflection\n",
    "\n",
    "What did you find easy or hard about working with variables and data types? How might you use these concepts in your own research?"
   ]
  }
 ],
 "metadata": {
  "language_info": {
   "name": "python"
  }
 },
 "nbformat": 4,
 "nbformat_minor": 5
}
