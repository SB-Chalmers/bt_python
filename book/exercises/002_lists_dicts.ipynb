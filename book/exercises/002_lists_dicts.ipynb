{
 "cells": [
  {
   "cell_type": "markdown",
   "id": "a798c7e6",
   "metadata": {},
   "source": [
    "# Lists and Dictionaries\n",
    "\n",
    "In this notebook, you'll learn how to store and organize data using lists and dictionaries. These are useful for managing research data, like project names or budgets.\n",
    "\n",
    "**Learning objectives:**\n",
    "- Store multiple items in lists and dictionaries\n",
    "- Access and modify elements\n",
    "- Use these to represent research data"
   ]
  },
  {
   "cell_type": "markdown",
   "id": "bab44ed0",
   "metadata": {},
   "source": [
    "## 1. Create a List of Project Names\n",
    "\n",
    "Make a list called `projects` with at least three research project names (as strings). Print the list."
   ]
  },
  {
   "cell_type": "code",
   "execution_count": null,
   "id": "9f968bde",
   "metadata": {},
   "outputs": [],
   "source": [
    "# Your code here"
   ]
  },
  {
   "cell_type": "markdown",
   "id": "9ced029a",
   "metadata": {},
   "source": [
    "## 2. Access Items by Index\n",
    "\n",
    "Print the first and last project names from your list using their indexes."
   ]
  },
  {
   "cell_type": "code",
   "execution_count": null,
   "id": "4ce59dac",
   "metadata": {},
   "outputs": [],
   "source": [
    "# Your code here"
   ]
  },
  {
   "cell_type": "markdown",
   "id": "9c75dd12",
   "metadata": {},
   "source": [
    "## 3. Create a Dictionary for a Project\n",
    "\n",
    "Make a dictionary called `project_info` with keys like `'title'`, `'PI'` (principal investigator), and `'budget'`. Fill in values for each key and print the dictionary."
   ]
  },
  {
   "cell_type": "code",
   "execution_count": null,
   "id": "ccc7844b",
   "metadata": {},
   "outputs": [],
   "source": [
    "# Your code here"
   ]
  },
  {
   "cell_type": "markdown",
   "id": "b46990df",
   "metadata": {},
   "source": [
    "## 4. Update or Add a Key-Value Pair\n",
    "\n",
    "Add a new key-value pair to your dictionary (for example, `'status': 'active'`) or update an existing value. Print the updated dictionary."
   ]
  },
  {
   "cell_type": "code",
   "execution_count": null,
   "id": "56ba2a2e",
   "metadata": {},
   "outputs": [],
   "source": [
    "# Your code here"
   ]
  },
  {
   "cell_type": "markdown",
   "id": "b6f0ee47",
   "metadata": {},
   "source": [
    "## Bonus: List of Dictionaries\n",
    "\n",
    "Create a list called `all_projects` that contains two or more dictionaries, each representing a different project. Print the list."
   ]
  },
  {
   "cell_type": "code",
   "execution_count": null,
   "id": "dea837cf",
   "metadata": {},
   "outputs": [],
   "source": [
    "# Your code here"
   ]
  },
  {
   "cell_type": "markdown",
   "id": "c2643406",
   "metadata": {},
   "source": [
    "---\n",
    "## Reflection\n",
    "\n",
    "How could you use lists and dictionaries to organize your own research data? What was the most useful thing you learned in this notebook?"
   ]
  }
 ],
 "metadata": {
  "language_info": {
   "name": "python"
  }
 },
 "nbformat": 4,
 "nbformat_minor": 5
}
