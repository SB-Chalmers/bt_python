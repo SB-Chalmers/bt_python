{
 "cells": [
  {
   "cell_type": "markdown",
   "id": "857175fb",
   "metadata": {},
   "source": [
    "# Pandas Basics 🐼\n",
    "\n",
    "Welcome to the world of pandas! Pandas is a superpower for working with data tables in Python. In this notebook, you'll learn how to load, explore, and filter real research data.\n",
    "\n",
    "**Learning objectives:**\n",
    "- Load a CSV file with `pandas`\n",
    "- Explore data using `.head()`, `.info()`, `.describe()`\n",
    "- Select columns and filter rows"
   ]
  },
  {
   "cell_type": "markdown",
   "id": "656329ec",
   "metadata": {},
   "source": [
    "## 1. Load a Sample Dataset\n",
    "\n",
    "Let's get started! First, import pandas and load a sample CSV file. (If you don't have a file, you can use any small CSV you find online, or create a tiny one yourself.)\n",
    "\n",
    "For example, you might use building energy data or any dataset with columns like `year`, `building`, and `energy_use`."
   ]
  },
  {
   "cell_type": "code",
   "execution_count": null,
   "id": "1953c29c",
   "metadata": {},
   "outputs": [],
   "source": [
    "import pandas as pd\n",
    "\n",
    "\n",
    "df = pd.read_csv('energy_data.csv')\n",
    "\n",
    "# Take a peek at the first few rows\n",
    "df.head()"
   ]
  },
  {
   "cell_type": "markdown",
   "id": "4b511323",
   "metadata": {},
   "source": [
    "## 2. Explore Your Data\n",
    "\n",
    "Let's get to know your data! Print the column names, and use `.info()` and `.describe()` to see what your dataset looks like."
   ]
  },
  {
   "cell_type": "code",
   "execution_count": null,
   "id": "f489b825",
   "metadata": {},
   "outputs": [],
   "source": [
    "# Print column names\n",
    "print(df.columns)\n",
    "\n",
    "# Get info about the DataFrame\n",
    "df.info()\n",
    "\n",
    "# Get basic statistics (for numeric columns)\n",
    "df.describe()"
   ]
  },
  {
   "cell_type": "markdown",
   "id": "9ab3ad19",
   "metadata": {},
   "source": [
    "## 3. Filter Data by Condition\n",
    "\n",
    "Suppose you want to see only the data for a specific year or where `energy_use` is above a certain value. Try filtering your DataFrame!\n",
    "\n",
    "*Hint: Use something like `df[df['year'] == 2022]` or `df[df['energy_use'] > 1000]`*"
   ]
  },
  {
   "cell_type": "code",
   "execution_count": null,
   "id": "206652c4",
   "metadata": {},
   "outputs": [],
   "source": [
    "# Your code here"
   ]
  },
  {
   "cell_type": "markdown",
   "id": "80e75771",
   "metadata": {},
   "source": [
    "## 4. Select Specific Columns\n",
    "\n",
    "Sometimes you only need a few columns for your analysis. Select and print just the columns you care about (for example, `building` and `energy_use`)."
   ]
  },
  {
   "cell_type": "code",
   "execution_count": null,
   "id": "7360534a",
   "metadata": {},
   "outputs": [],
   "source": [
    "# Your code here"
   ]
  },
  {
   "cell_type": "markdown",
   "id": "95f820e9",
   "metadata": {},
   "source": [
    "## 🎉 Bonus: What Surprised You?\n",
    "\n",
    "Did you notice anything interesting or unexpected in your data? Write a quick note or print a fun fact you discovered!"
   ]
  },
  {
   "cell_type": "code",
   "execution_count": null,
   "id": "9f6f671a",
   "metadata": {},
   "outputs": [],
   "source": [
    "# Your code or notes here"
   ]
  },
  {
   "cell_type": "markdown",
   "id": "09a2d406",
   "metadata": {},
   "source": [
    "---\n",
    "## Reflection\n",
    "\n",
    "How could you use pandas to explore your own research data? What was the most fun or useful thing you learned today?"
   ]
  }
 ],
 "metadata": {
  "language_info": {
   "name": "python"
  }
 },
 "nbformat": 4,
 "nbformat_minor": 5
}
