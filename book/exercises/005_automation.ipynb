{
 "cells": [
  {
   "cell_type": "markdown",
   "id": "cd55af45",
   "metadata": {},
   "source": [
    "# Automation with Loops and Conditions 🤖\n",
    "\n",
    "Let's make Python do the repetitive work for you! In this notebook, you'll practice using `for` loops and `if` statements to automate simple research tasks.\n",
    "\n",
    "**Learning objectives:**\n",
    "- Use `for` loops and `if` statements\n",
    "- Automate simple tasks like labeling or cleaning"
   ]
  },
  {
   "cell_type": "markdown",
   "id": "edf0cb9e",
   "metadata": {},
   "source": [
    "## 1. Loop Through a List and Print Messages\n",
    "\n",
    "Create a list of researcher names. Use a `for` loop to print a friendly message for each person (e.g., \"Hello, Dr. Smith!\")."
   ]
  },
  {
   "cell_type": "code",
   "execution_count": null,
   "id": "e6c1ef49",
   "metadata": {},
   "outputs": [],
   "source": [
    "# Your code here"
   ]
  },
  {
   "cell_type": "markdown",
   "id": "a3067073",
   "metadata": {},
   "source": [
    "## 2. Assign Labels Based on Conditions\n",
    "\n",
    "Suppose you have a list of project budgets. Use a loop and `if` statements to label each as \"high budget\" (>= 1000) or \"low budget\" (< 1000). Print the project and its label."
   ]
  },
  {
   "cell_type": "code",
   "execution_count": null,
   "id": "a0163a42",
   "metadata": {},
   "outputs": [],
   "source": [
    "# Your code here"
   ]
  },
  {
   "cell_type": "markdown",
   "id": "a7d41f26",
   "metadata": {},
   "source": [
    "## 3. Clean Up a List of Strings\n",
    "\n",
    "You have a list of project titles with inconsistent formatting (e.g., extra spaces, uppercase letters). Use a loop to clean them up using `.strip()`, `.lower()`, and `.replace()`."
   ]
  },
  {
   "cell_type": "code",
   "execution_count": null,
   "id": "0fac1c55",
   "metadata": {},
   "outputs": [],
   "source": [
    "# Your code here"
   ]
  },
  {
   "cell_type": "markdown",
   "id": "d041ff46",
   "metadata": {},
   "source": [
    "## 4. Bonus: Automate an Email List\n",
    "\n",
    "Given a list of researcher emails, use a loop to create a new list with only the emails from a specific university (e.g., those ending with `@ki.se`). Print the filtered list."
   ]
  },
  {
   "cell_type": "code",
   "execution_count": null,
   "id": "d28abde8",
   "metadata": {},
   "outputs": [],
   "source": [
    "# Your code here"
   ]
  },
  {
   "cell_type": "markdown",
   "id": "ac5c56e3",
   "metadata": {},
   "source": [
    "---\n",
    "## Reflection\n",
    "\n",
    "How could automation help you in your research? What would you like to automate next?"
   ]
  }
 ],
 "metadata": {
  "language_info": {
   "name": "python"
  }
 },
 "nbformat": 4,
 "nbformat_minor": 5
}
